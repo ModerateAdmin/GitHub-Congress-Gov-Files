{
 "cells": [
  {
   "cell_type": "markdown",
   "id": "1cf3b751-8137-4552-8ede-47b507c19d8f",
   "metadata": {},
   "source": [
    "## Retrieve Congress Bill Info- Congress.Gov API"
   ]
  },
  {
   "cell_type": "markdown",
   "id": "58fa59da-6650-4ea4-aca5-505352bf4403",
   "metadata": {},
   "source": [
    "#### Create a virtual environment to retrieve the congressional legislation"
   ]
  },
  {
   "cell_type": "code",
   "execution_count": null,
   "id": "529a6bd5-ad0d-4be3-be12-0e949d5250b7",
   "metadata": {
    "tags": []
   },
   "outputs": [],
   "source": [
    "!python3 -m venv congress-env\n",
    "!source congress-env/bin/activate\n",
    "!python3 -m pip install --upgrade pip\n",
    "!git clone https://github.com/unitedstates/congress.git"
   ]
  },
  {
   "cell_type": "code",
   "execution_count": null,
   "id": "b3077bca-1bec-488f-9b3c-acb77817171d",
   "metadata": {
    "tags": []
   },
   "outputs": [],
   "source": [
    "cd congress"
   ]
  },
  {
   "cell_type": "code",
   "execution_count": null,
   "id": "c1568b40-ac29-4327-85d3-fd6d665bef9a",
   "metadata": {
    "tags": []
   },
   "outputs": [],
   "source": [
    "!pip install ."
   ]
  },
  {
   "cell_type": "code",
   "execution_count": null,
   "id": "cdbe93be-45c3-4033-acea-0fdf4422a9b2",
   "metadata": {
    "tags": []
   },
   "outputs": [],
   "source": [
    "!usc-run votes --congress=118 --session=2024"
   ]
  },
  {
   "cell_type": "markdown",
   "id": "739d719b-629a-45e4-ba22-8dda789e0c30",
   "metadata": {},
   "source": [
    "#### Retrieve Bill information from Congress.Gov"
   ]
  },
  {
   "cell_type": "code",
   "execution_count": null,
   "id": "5d28230c-94bd-4b97-9f90-8f5b6602f9b2",
   "metadata": {
    "tags": []
   },
   "outputs": [],
   "source": [
    "import requests\n",
    "import re\n",
    "import ast\n",
    "import operator\n",
    "import os, shutil\n",
    "import urllib.request\n",
    "import pickle\n",
    "import time\n",
    "import sys\n",
    "import gzip\n",
    "import os\n",
    "import json"
   ]
  },
  {
   "cell_type": "markdown",
   "id": "196ad5e7-94e6-4098-a837-8cec2505e2db",
   "metadata": {},
   "source": [
    "Use the Congress Gov API Key to retrieve bills from the website.\n",
    "\n",
    "The following function extracts general bill info:"
   ]
  },
  {
   "cell_type": "code",
   "execution_count": null,
   "id": "c833672c-00fa-4af9-b3f7-99c0da66c13b",
   "metadata": {
    "tags": []
   },
   "outputs": [],
   "source": [
    "def extract_bill_info(Congress, Number, BillType, API_RETURN_COUNT):\n",
    "    api_key = 'YOUR_API_KEY'\n",
    "    headers = {\n",
    "        'X-API-Key': '4V0pWr1YRKYrjzzqYGVjAMrqeTMiDT4x86HxsUXi'\n",
    "    }\n",
    "\n",
    "    # Construct the request URL\n",
    "    endpoint = 'https://api.congress.gov/v3/bill/' + str(Congress) + '/' + BillType + '/' + str(Number)\n",
    "    params = {\n",
    "        'limit': 1,  # Adjust as needed\n",
    "        'offset': 0   # Adjust as needed\n",
    "    }\n",
    "\n",
    "    # Make the request\n",
    "    response = requests.get(endpoint, headers=headers, params=params)\n",
    "\n",
    "    # Check if the request was successful\n",
    "    if response.status_code == 200:\n",
    "        try:\n",
    "            data = response.json() # or response.xml() based on the expected format\n",
    "            UpdatedDate = data['bill']['latestAction']['actionDate']\n",
    "            IntroducedDate = data['bill']['introducedDate']\n",
    "            Party = data['bill']['sponsors'][0]['party']\n",
    "            Chamber = data['bill']['originChamber']\n",
    "            Title = data['bill']['title']\n",
    "            policyArea = data['bill']['policyArea']['name']\n",
    "        except:\n",
    "            UpdatedDate = ''\n",
    "            IntroducedDate = ''\n",
    "            Party = ''\n",
    "            Chamber = ''\n",
    "            policyArea = ''\n",
    "            Title = ''\n",
    "    else:\n",
    "        print(\"Error:\", response.status_code)\n",
    "        print(API_RETURN_COUNT)\n",
    "        UpdatedDate = ''\n",
    "        IntroducedDate = ''\n",
    "        Party = ''\n",
    "        Chamber = ''\n",
    "        policyArea = ''\n",
    "        Title = ''\n",
    "    \n",
    "    return UpdatedDate,IntroducedDate,Party,Chamber, policyArea, Title"
   ]
  },
  {
   "cell_type": "markdown",
   "id": "7abeec74-6e94-4a3b-81e6-0c3c7389862d",
   "metadata": {},
   "source": [
    "The following function extracts summary info:"
   ]
  },
  {
   "cell_type": "code",
   "execution_count": null,
   "id": "499aa776-e152-4a22-8db0-ec16ea9ea987",
   "metadata": {
    "tags": []
   },
   "outputs": [],
   "source": [
    "def retrieve_summary(Congress, Number, BillType, API_RETURN_COUNT):\n",
    "    api_key = 'YOUR_API_KEY'\n",
    "    headers = {\n",
    "        'X-API-Key': '4V0pWr1YRKYrjzzqYGVjAMrqeTMiDT4x86HxsUXi'\n",
    "    }\n",
    "    SummaryURL = \"https://api.congress.gov/v3/bill/\"+ str(Congress) + '/' + BillType + '/' + str(Number) + \"/summaries\"\n",
    "    # Construct the request URL\n",
    "    endpoint = SummaryURL\n",
    "    params = {\n",
    "        'limit': 1,  # Adjust as needed\n",
    "        'offset': 0   # Adjust as needed\n",
    "    }\n",
    "\n",
    "    # Make the request\n",
    "    response = requests.get(endpoint, headers=headers, params=params)\n",
    "    # Check if the request was successful\n",
    "    if response.status_code == 200:\n",
    "        try:\n",
    "            data = response.json()  # or response.xml() based on the expected format\n",
    "            Summary = data['summaries'][0]['text']\n",
    "        except:\n",
    "            Summary = ''\n",
    "    else:\n",
    "        print(\"Error:\", response.status_code)\n",
    "        print(API_RETURN_COUNT)\n",
    "        Summary = ''\n",
    "    \n",
    "    return Summary"
   ]
  },
  {
   "cell_type": "markdown",
   "id": "25d49010-f7d6-4e1c-a962-f4e3c53074ea",
   "metadata": {
    "tags": []
   },
   "source": [
    "Extract the link url to the pdf version of the bill"
   ]
  },
  {
   "cell_type": "code",
   "execution_count": null,
   "id": "28381534-b3e4-4c31-a365-cfee04b6c0b7",
   "metadata": {
    "tags": []
   },
   "outputs": [],
   "source": [
    "def retrieve_pdf_url(Congress,Number,BillType,API_RETURN_COUNT):\n",
    "    api_key = 'YOUR_API_KEY'\n",
    "    headers = {\n",
    "        'X-API-Key': '4V0pWr1YRKYrjzzqYGVjAMrqeTMiDT4x86HxsUXi'\n",
    "    }\n",
    "\n",
    "    # Construct the request URL\n",
    "    endpoint = \"https://api.congress.gov/v3/bill/\"+ str(Congress) + '/' + BillType + '/' + str(Number) + \"/text\"\n",
    "    params = {\n",
    "        'limit': 1,  # Adjust as needed\n",
    "        'offset': 0   # Adjust as needed\n",
    "    }\n",
    "\n",
    "    # Make the request\n",
    "    response = requests.get(endpoint, headers=headers, params=params)\n",
    "    # Check if the request was successful\n",
    "    if response.status_code == 200:\n",
    "        try:\n",
    "            data = response.json()  # or response.xml() based on the expected format\n",
    "            pdfurl = data['textVersions'][0]['formats'][1]['url']\n",
    "        except:\n",
    "            pdfurl = ''\n",
    "    else:\n",
    "        print(\"Error:\", response.status_code)\n",
    "        print(API_RETURN_COUNT)\n",
    "        pdfurl = ''\n",
    "    \n",
    "    return pdfurl"
   ]
  },
  {
   "cell_type": "markdown",
   "id": "d6d59b47-3bac-47b9-beac-c57ec0a720aa",
   "metadata": {},
   "source": [
    "This is the Class for storing information"
   ]
  },
  {
   "cell_type": "code",
   "execution_count": null,
   "id": "8a333ba4-cbcf-4b86-b457-d4c26a8428e0",
   "metadata": {
    "tags": []
   },
   "outputs": [],
   "source": [
    "class CongressionalBillInfo:\n",
    "    def __init__ (self, ID, Title, Summary, IntroducedDate, UpdatedDate, PDF_URL, Party, PolicyArea, Category, Session, Chamber,OriginChamber, Days, Aye, Nay, Not_Voting, Present, DemocratAyeCount, RepublicanAyeCount, RepublicanNayCount, DemocratNayCount, DemocratNotVotingCount, RepublicanNotVotingCount, Result):\n",
    "        self.ID = ID\n",
    "        self.Title = Title\n",
    "        self.Summary = Summary\n",
    "        self.IntroducedDate = IntroducedDate\n",
    "        self.UpdatedDate = UpdatedDate\n",
    "        self.PDF_URL = PDF_URL\n",
    "        self.Party = Party\n",
    "        self.PolicyArea = PolicyArea\n",
    "        self.Category = Category\n",
    "        self.Chamber = Chamber\n",
    "        self.OriginChamber = OriginChamber\n",
    "        self.Session = Session\n",
    "        self.Days = Days\n",
    "        self.Aye = Aye\n",
    "        self.Nay = Nay\n",
    "        self.Not_Voting = Not_Voting\n",
    "        self.Present = Present\n",
    "        self.DemocratAyeCount = DemocratAyeCount\n",
    "        self.RepublicanAyeCount = RepublicanAyeCount\n",
    "        self.DemocratNayCount = DemocratNayCount\n",
    "        self.RepublicanNayCount = RepublicanNayCount\n",
    "        self.DemocratNotVotingCount = DemocratNotVotingCount\n",
    "        self.RepublicanNotVotingCount = RepublicanNotVotingCount\n",
    "        self.Result = Result"
   ]
  },
  {
   "cell_type": "code",
   "execution_count": null,
   "id": "7becb403-fe8b-4755-8a22-ae2b577aa45d",
   "metadata": {
    "tags": []
   },
   "outputs": [],
   "source": [
    "def Adjust_And_Pause():\n",
    "    time.sleep(3660)\n",
    "    return 0"
   ]
  },
  {
   "cell_type": "code",
   "execution_count": null,
   "id": "60307ec5-a763-431e-ab2e-91e2ec6a811b",
   "metadata": {
    "tags": []
   },
   "outputs": [],
   "source": [
    "# Replace 'your_directory_path' with the path to your directory\n",
    "directory_path = 'data/118/votes/2024/'\n",
    "vote_list = []\n",
    "# Walk through the directory\n",
    "for root, dirs, files in os.walk(directory_path):\n",
    "    for name in dirs:\n",
    "        file_path = directory_path + name + \"/data.json\"\n",
    "        try:\n",
    "            with open(file_path, 'r') as FILE:\n",
    "                data = json.load(FILE)\n",
    "                vote_list.append(data)\n",
    "        except:\n",
    "            pass"
   ]
  },
  {
   "cell_type": "code",
   "execution_count": null,
   "id": "49e4d0b0-fc1d-4c77-a119-fb3b0376a1fc",
   "metadata": {
    "tags": []
   },
   "outputs": [],
   "source": [
    "print(len(vote_list))"
   ]
  },
  {
   "cell_type": "code",
   "execution_count": null,
   "id": "a2e797bd-64d5-45b9-8c41-4520612ca747",
   "metadata": {
    "tags": []
   },
   "outputs": [],
   "source": [
    "API_RETURN_COUNT = 0"
   ]
  },
  {
   "cell_type": "code",
   "execution_count": null,
   "id": "b621e8e3-3240-4101-8342-d8f319227c4e",
   "metadata": {
    "tags": []
   },
   "outputs": [],
   "source": [
    "from datetime import datetime, timezone\n",
    "import pytz\n",
    "\n",
    "BillOBJList = []\n",
    "counter = 0\n",
    "for vote in vote_list:\n",
    "    \n",
    "    try:\n",
    "        try:\n",
    "            Congress = vote['bill']['congress']\n",
    "        except:\n",
    "            Congress = vote['congress']\n",
    "\n",
    "        Session = vote['session']\n",
    "\n",
    "        try:\n",
    "            Number = vote['bill']['number']\n",
    "        except:\n",
    "            Number = vote['nomination']['number']\n",
    "\n",
    "        Chamber = vote['chamber']\n",
    "\n",
    "        try:\n",
    "            BillType = vote['bill']['type']\n",
    "        except:\n",
    "            BillType = \"Nomination\"\n",
    "\n",
    "        Category = vote['category'] \n",
    "        Result = vote['result']  \n",
    "\n",
    "        DemocratAyeCount = 0\n",
    "        RepublicanAyeCount = 0\n",
    "        IndependentAyeCount = 0\n",
    "\n",
    "        DemocratNayCount = 0\n",
    "        RepublicanNayCount = 0\n",
    "        IndependentNayCount = 0\n",
    "\n",
    "        DemocratNotVotingCount = 0\n",
    "        RepublicanNotVotingCount = 0\n",
    "        IndependentNotVotingCount = 0\n",
    "\n",
    "\n",
    "        try:\n",
    "            Aye = vote['votes']['Yea']\n",
    "        except:\n",
    "            Aye = vote['votes']['Aye']\n",
    "\n",
    "        aye_list = []\n",
    "        for aye_vote in Aye:\n",
    "            aye_list.append(aye_vote['id'])\n",
    "            # if aye_vote['party'] == 'D':\n",
    "            #     DemocratAyeCount+=1\n",
    "            # elif aye_vote['party'] == 'R':\n",
    "            #     RepublicanAyeCount+=1\n",
    "\n",
    "        try:\n",
    "            Nay = vote['votes']['Nay']\n",
    "        except:\n",
    "            Nay = vote['votes']['No']\n",
    "\n",
    "        nay_list = []\n",
    "        for nay_vote in Nay:\n",
    "            nay_list.append(nay_vote['id'])\n",
    "            # if aye_vote['party'] == 'D':\n",
    "            #     DemocratNayCount+=1\n",
    "            # elif aye_vote['party'] == 'R':\n",
    "            #     RepublicanNayCount+=1\n",
    "\n",
    "        Not_Voting = vote['votes']['Not Voting']\n",
    "        not_voting_list = []\n",
    "        for not_vote in Not_Voting:\n",
    "            not_voting_list.append(not_vote['id'])\n",
    "            # if aye_vote['party'] == 'D':\n",
    "            #     DemocratNotVotingCount+=1\n",
    "            # elif aye_vote['party'] == 'R':\n",
    "            #     RepublicanNotVotingCount+=1\n",
    "\n",
    "        Present = vote['votes']['Present']\n",
    "        present_list = []\n",
    "        for pres in Present:\n",
    "            present_list.append(pres['id'])\n",
    "\n",
    "        date_str = vote['date']\n",
    "        # Parsing the date string to a datetime object\n",
    "        input_date = datetime.fromisoformat(date_str)\n",
    "\n",
    "        # Converting the input date to UTC\n",
    "        input_date_utc = input_date.astimezone(pytz.UTC)\n",
    "\n",
    "        # Getting the current date in UTC\n",
    "        current_date_utc = datetime.now(timezone.utc)\n",
    "\n",
    "        # Calculating the number of days difference\n",
    "        Days = (current_date_utc - input_date_utc).days\n",
    "\n",
    "    except:\n",
    "        counter+=1\n",
    "        continue\n",
    "    \n",
    "    try:\n",
    "        # Ignore Nominations for now\n",
    "        if BillType == \"Nomination\":\n",
    "            continue  \n",
    "        \n",
    "        API_RETURN_COUNT += 1\n",
    "        if API_RETURN_COUNT > 500:\n",
    "            API_RETURN_COUNT = Adjust_And_Pause()\n",
    "\n",
    "        UpdatedDate,IntroducedDate,Party,OriginChamber,policyArea,Title = extract_bill_info(Congress, Number, BillType, API_RETURN_COUNT)\n",
    "\n",
    "        API_RETURN_COUNT += 1\n",
    "        if API_RETURN_COUNT > 500:\n",
    "            API_RETURN_COUNT = Adjust_And_Pause()\n",
    "        Summary = retrieve_summary(Congress, Number, BillType, API_RETURN_COUNT)\n",
    "\n",
    "        API_RETURN_COUNT += 1\n",
    "        if API_RETURN_COUNT > 500:\n",
    "            API_RETURN_COUNT = Adjust_And_Pause()\n",
    "        PDF_URL = retrieve_pdf_url(Congress, Number, BillType, API_RETURN_COUNT)\n",
    "\n",
    "        \n",
    "        # The ID is the Congress number followed by -O \"Origin Chamber\" and -C \"Chamber\"\n",
    "        ID = str(Congress) + '-' + str(Number) + '-O' + OriginChamber[0] + '-C' + Chamber[0]\n",
    "\n",
    "        if Party == \"D\":\n",
    "            Party = \"Democrats\"\n",
    "        elif Party == \"R\":\n",
    "            Party = \"Republicans\"\n",
    "        else:\n",
    "            Party = \"Independent\"  \n",
    "\n",
    "        if Title != '' and Congress != '' and Number != '' and UpdatedDate != '' and IntroducedDate != '' and Summary != '' and PDF_URL != '':\n",
    "            CongressionalBillInfoOBJ = CongressionalBillInfo(ID = ID, Category = Category, Session = Session, OriginChamber = OriginChamber, Result=Result, Title = Title, Summary = Summary, PolicyArea = policyArea, IntroducedDate = IntroducedDate, UpdatedDate = UpdatedDate, PDF_URL = PDF_URL, Party = Party, Chamber = Chamber, Days = Days, Aye = aye_list, Nay = nay_list, Not_Voting = not_voting_list, Present = present_list,DemocratAyeCount = DemocratAyeCount, RepublicanAyeCount = RepublicanAyeCount, RepublicanNayCount = RepublicanNayCount,DemocratNayCount = DemocratNayCount, DemocratNotVotingCount = DemocratNotVotingCount, RepublicanNotVotingCount = RepublicanNotVotingCount)\n",
    "            BillOBJList.append(CongressionalBillInfoOBJ)\n",
    "    except:\n",
    "        print(\"Error in Second Try Statement\")"
   ]
  },
  {
   "cell_type": "markdown",
   "id": "85959471-ab93-4f3b-a854-44ed5603a527",
   "metadata": {
    "tags": []
   },
   "source": [
    "#### Delete the Congress Gov Folders"
   ]
  },
  {
   "cell_type": "raw",
   "id": "f01bb34a-bba8-47d2-99e1-40c9e94f3c05",
   "metadata": {
    "tags": []
   },
   "source": [
    "cd '/root/GitHub-Congress-Gov-Files'"
   ]
  },
  {
   "cell_type": "raw",
   "id": "6e95136a-58fd-4322-9469-d4df71e0894b",
   "metadata": {
    "tags": []
   },
   "source": [
    "import shutil\n",
    "\n",
    "folder_path = 'congress'\n",
    "\n",
    "# Delete the folder and all its contents\n",
    "shutil.rmtree(folder_path)\n",
    "\n",
    "folder_path = 'congress-env'\n",
    "\n",
    "# Delete the folder and all its contents\n",
    "shutil.rmtree(folder_path)"
   ]
  },
  {
   "cell_type": "markdown",
   "id": "35ba02a8-0369-4fa5-8ccb-360bd0c91be6",
   "metadata": {},
   "source": [
    "### Read and Write from DynamoDB"
   ]
  },
  {
   "cell_type": "code",
   "execution_count": null,
   "id": "d29ca5a0-1918-4197-b986-ae8d0d73f2fe",
   "metadata": {
    "tags": []
   },
   "outputs": [],
   "source": [
    "import boto3\n",
    "from boto3.dynamodb.conditions import Key, Attr\n",
    "from botocore.exceptions import ClientError"
   ]
  },
  {
   "cell_type": "markdown",
   "id": "0c77f3cf-da67-4be6-a6e1-905bdca55f6a",
   "metadata": {},
   "source": [
    "Query for the politiciansDB so that corresponding voting information can be added to the db"
   ]
  },
  {
   "cell_type": "code",
   "execution_count": null,
   "id": "6486aedf-deef-4c1f-a9ef-23bd2a56b2d1",
   "metadata": {
    "tags": []
   },
   "outputs": [],
   "source": [
    "def query_Politicians_DB(dynamodb = None):\n",
    "    if not dynamodb:\n",
    "        dynamodb = boto3.resource('dynamodb', endpoint_url=\"https://dynamodb.us-east-1.amazonaws.com\")\n",
    "    table = dynamodb.Table('PoliticiansDB-iupecu7kgngs3cdnckvjmtrgmm-dev')\n",
    "    response = table.scan()\n",
    "    items = response['Items']\n",
    "    while 'LastEvaluatedKey' in response:\n",
    "        response = table.scan(ExclusiveStartKey=response['LastEvaluatedKey'])\n",
    "        items.extend(response['Items'])\n",
    "    return items\n",
    "Current_DB_Politicians = query_Politicians_DB()"
   ]
  },
  {
   "cell_type": "code",
   "execution_count": null,
   "id": "0cc9ee76-f45e-487a-9a62-f3561017ce4c",
   "metadata": {
    "tags": []
   },
   "outputs": [],
   "source": [
    "len(BillOBJList)"
   ]
  },
  {
   "cell_type": "markdown",
   "id": "5bc8d6b5-b013-46d8-bc31-597d0d8f3065",
   "metadata": {},
   "source": [
    "Create lists of republican, democrat, and independents by alternateids. This will be used when going through legislation to categorize each vote properly."
   ]
  },
  {
   "cell_type": "code",
   "execution_count": null,
   "id": "bcdee673-533b-4484-b390-97ee96f69106",
   "metadata": {
    "tags": []
   },
   "outputs": [],
   "source": [
    "republican_alt_id_list = []\n",
    "democrat_alt_id_list = []\n",
    "independent_alt_id_list = []\n",
    "\n",
    "for politician in Current_DB_Politicians:\n",
    "    \n",
    "    if politician['Party'] == \"Republican\":\n",
    "        republican_alt_id_list.append(politician['alternateID'])\n",
    "    elif politician['Party'] == \"Democratic\":\n",
    "        democrat_alt_id_list.append(politician['alternateID'])\n",
    "    elif politician['Party'] == \"Independent\":\n",
    "        independent_alt_id_list.append(politician['alternateID'])"
   ]
  },
  {
   "cell_type": "markdown",
   "id": "5b8faad2-3456-497d-9efd-3dc274acde9f",
   "metadata": {},
   "source": [
    "Create a class that also contains independent voting counts along with the 'Name_Party_State\" dictionary lists where the key is the politician alternateID and then the rest is a list of the corresponding politician's name, state, and party they are associated with."
   ]
  },
  {
   "cell_type": "code",
   "execution_count": 2,
   "id": "d8f44b3c-79fe-452d-a09f-399a56f448db",
   "metadata": {
    "tags": []
   },
   "outputs": [],
   "source": [
    "class CongressionalBillInfoWithExtendedVoteInfo:\n",
    "    def __init__ (self, ID, Title, Summary, IntroducedDate, UpdatedDate, PDF_URL, Party, PolicyArea, Category, Session, Chamber,OriginChamber, Days, Aye, Nay, Not_Voting, Aye_Name_Party_State, Nay_Name_Party_State, Not_Voting_Name_Party_State, Present, Present_Name_Party_State, DemocratAyeCount, RepublicanAyeCount, IndependentAyeCount, RepublicanNayCount, DemocratNayCount, IndependentNayCount, DemocratNotVotingCount, RepublicanNotVotingCount, IndependentNotVotingCount, Result):\n",
    "        self.ID = ID\n",
    "        self.Title = Title\n",
    "        self.Summary = Summary\n",
    "        self.IntroducedDate = IntroducedDate\n",
    "        self.UpdatedDate = UpdatedDate\n",
    "        self.PDF_URL = PDF_URL\n",
    "        self.Party = Party\n",
    "        self.PolicyArea = PolicyArea\n",
    "        self.Category = Category\n",
    "        self.Chamber = Chamber\n",
    "        self.OriginChamber = OriginChamber\n",
    "        self.Session = Session\n",
    "        self.Days = Days\n",
    "        self.Aye = Aye\n",
    "        self.Nay = Nay\n",
    "        self.Not_Voting = Not_Voting\n",
    "        self.Aye_Name_Party_State = Aye_Name_Party_State\n",
    "        self.Nay_Name_Party_State = Nay_Name_Party_State\n",
    "        self.Not_Voting_Name_Party_State = Not_Voting_Name_Party_State\n",
    "        self.Present_Name_Party_State = Present_Name_Party_State\n",
    "        self.Present = Present\n",
    "        self.DemocratAyeCount = DemocratAyeCount\n",
    "        self.RepublicanAyeCount = RepublicanAyeCount\n",
    "        self.IndependentAyeCount = IndependentAyeCount\n",
    "        self.DemocratNayCount = DemocratNayCount\n",
    "        self.RepublicanNayCount = RepublicanNayCount\n",
    "        self.IndependentNayCount = IndependentAyeCount\n",
    "        self.DemocratNotVotingCount = DemocratNotVotingCount\n",
    "        self.RepublicanNotVotingCount = RepublicanNotVotingCount\n",
    "        self.IndependentNotVotingCount = IndependentNotVotingCount\n",
    "        self.Result = Result"
   ]
  },
  {
   "cell_type": "code",
   "execution_count": null,
   "id": "5a4e2117-c7bb-403b-8d11-1ba910a969ca",
   "metadata": {
    "tags": []
   },
   "outputs": [],
   "source": [
    "index_counter = 0\n",
    "Full_Bill_OBJ_List = []\n",
    "\n",
    "for obj in BillOBJList:\n",
    "    \n",
    "    Aye_Name_Party_State_Dictionary = {}\n",
    "    Nay_Name_Party_State_Dictionary = {}\n",
    "    Not_Voting_Name_Party_State_Dictionary = {}\n",
    "    Present_Name_Party_State_Dictionary = {}\n",
    "    \n",
    "    for pol_id in obj.Aye:\n",
    "        for full_pol_info_from_DB in Current_DB_Politicians:\n",
    "            if (pol_id == full_pol_info_from_DB['alternateID']):\n",
    "                Aye_Name_Party_State_Dictionary[full_pol_info_from_DB['alternateID']] = [full_pol_info_from_DB['Name'],full_pol_info_from_DB['Party'],full_pol_info_from_DB['State']]\n",
    "                break\n",
    "        \n",
    "    for pol_id in obj.Nay:\n",
    "        for full_pol_info_from_DB in Current_DB_Politicians:\n",
    "            if (pol_id == full_pol_info_from_DB['alternateID']):\n",
    "                Nay_Name_Party_State_Dictionary[full_pol_info_from_DB['alternateID']] = [full_pol_info_from_DB['Name'],full_pol_info_from_DB['Party'],full_pol_info_from_DB['State']]\n",
    "                break\n",
    "    \n",
    "    for pol_id in obj.Not_Voting:\n",
    "        for full_pol_info_from_DB in Current_DB_Politicians:\n",
    "            if (pol_id == full_pol_info_from_DB['alternateID']):\n",
    "                Not_Voting_Name_Party_State_Dictionary[full_pol_info_from_DB['alternateID']] = [full_pol_info_from_DB['Name'],full_pol_info_from_DB['Party'],full_pol_info_from_DB['State']]\n",
    "                break\n",
    "    \n",
    "    for pol_id in obj.Present:\n",
    "        for full_pol_info_from_DB in Current_DB_Politicians:\n",
    "            if (pol_id == full_pol_info_from_DB['alternateID']):\n",
    "                Present_Name_Party_State_Dictionary[full_pol_info_from_DB['alternateID']] = [full_pol_info_from_DB['Name'],full_pol_info_from_DB['Party'],full_pol_info_from_DB['State']]\n",
    "                break\n",
    "\n",
    "    DemocratAyeCount = 0\n",
    "    RepublicanAyeCount = 0\n",
    "    IndependentAyeCount = 0\n",
    "\n",
    "    DemocratNayCount = 0\n",
    "    RepublicanNayCount = 0\n",
    "    IndependentNayCount = 0\n",
    "\n",
    "    DemocratNotVotingCount = 0\n",
    "    RepublicanNotVotingCount = 0\n",
    "    IndependentNotVotingCount = 0\n",
    "\n",
    "    for politician_id in obj.Aye:\n",
    "\n",
    "        if politician_id in republican_alt_id_list:\n",
    "            RepublicanAyeCount+=1\n",
    "        elif politician_id in democrat_alt_id_list:\n",
    "            DemocratAyeCount+=1\n",
    "        elif politician_id in independent_alt_id_list:\n",
    "            IndependentAyeCount+=1\n",
    "    \n",
    "    BillOBJList[index_counter].RepublicanAyeCount = RepublicanAyeCount\n",
    "    BillOBJList[index_counter].DemocratAyeCount = DemocratAyeCount\n",
    "    BillOBJList[index_counter].IndependentAyeCount = IndependentAyeCount\n",
    "\n",
    "    for politician_id in obj.Nay:\n",
    "\n",
    "        if politician_id in republican_alt_id_list:\n",
    "            RepublicanNayCount+=1\n",
    "        elif politician_id in democrat_alt_id_list:\n",
    "            DemocratNayCount+=1\n",
    "        elif politician_id in independent_alt_id_list:\n",
    "            IndependentNayCount+=1\n",
    "    \n",
    "    BillOBJList[index_counter].RepublicanNayCount = RepublicanNayCount\n",
    "    BillOBJList[index_counter].DemocratNayCount = DemocratNayCount\n",
    "    BillOBJList[index_counter].IndependentNayCount = IndependentNayCount\n",
    "\n",
    "    for politician_id in obj.Not_Voting:\n",
    "\n",
    "        if politician_id in republican_alt_id_list:\n",
    "            RepublicanNotVotingCount+=1\n",
    "        elif politician_id in democrat_alt_id_list:\n",
    "            DemocratNotVotingCount+=1\n",
    "        elif politician_id in independent_alt_id_list:\n",
    "            IndependentNotVotingCount+=1        \n",
    "\n",
    "    BillOBJList[index_counter].RepublicanNotVotingCount = RepublicanNotVotingCount\n",
    "    BillOBJList[index_counter].DemocratNotVotingCount = DemocratNotVotingCount\n",
    "    BillOBJList[index_counter].IndependentNotVotingCount = IndependentNotVotingCount\n",
    "    \n",
    "    # Update the Days based on Updated Date\n",
    "    current_date = datetime.now()\n",
    "    \n",
    "    \n",
    "    # print(LegislationJSONList[index_counter]['RepublicanAyeCount'])\n",
    "    \n",
    "    index_counter+=1\n",
    "    \n",
    "    CongressionalBillInfoWithExtendedVoteInfoOBJ = CongressionalBillInfoWithExtendedVoteInfo(ID = obj.ID, \n",
    "                                                                                             Category = obj.Category, \n",
    "                                                                                             Session = obj.Session, \n",
    "                                                                                             OriginChamber = obj.OriginChamber, \n",
    "                                                                                             Result= obj.Result, \n",
    "                                                                                             Title = obj.Title, \n",
    "                                                                                             Summary = obj.Summary, \n",
    "                                                                                             PolicyArea = obj.PolicyArea, \n",
    "                                                                                             IntroducedDate = obj.IntroducedDate, \n",
    "                                                                                             UpdatedDate = obj.UpdatedDate, \n",
    "                                                                                             PDF_URL = obj.PDF_URL, \n",
    "                                                                                             Party = obj.Party, \n",
    "                                                                                             Chamber = obj.Chamber, \n",
    "                                                                                             Days = obj.Days, \n",
    "                                                                                             Aye = obj.Aye,\n",
    "                                                                                             Nay = obj.Nay,\n",
    "                                                                                             Not_Voting = obj.Not_Voting, \n",
    "                                                                                             Aye_Name_Party_State = Aye_Name_Party_State_Dictionary, \n",
    "                                                                                             Nay_Name_Party_State = Nay_Name_Party_State_Dictionary, \n",
    "                                                                                             Not_Voting_Name_Party_State = Not_Voting_Name_Party_State_Dictionary,\n",
    "                                                                                             Present = obj.Present,\n",
    "                                                                                             Present_Name_Party_State = Present_Name_Party_State_Dictionary,\n",
    "                                                                                             DemocratAyeCount = DemocratAyeCount, \n",
    "                                                                                             RepublicanAyeCount = RepublicanAyeCount, \n",
    "                                                                                             IndependentAyeCount = IndependentAyeCount,\n",
    "                                                                                             RepublicanNayCount = RepublicanNayCount, \n",
    "                                                                                             DemocratNayCount = DemocratNayCount,\n",
    "                                                                                             IndependentNayCount = IndependentNayCount,\n",
    "                                                                                             DemocratNotVotingCount = DemocratNotVotingCount,\n",
    "                                                                                             RepublicanNotVotingCount = RepublicanNotVotingCount,\n",
    "                                                                                             IndependentNotVotingCount = IndependentNotVotingCount)\n",
    "    Full_Bill_OBJ_List.append(CongressionalBillInfoWithExtendedVoteInfoOBJ)"
   ]
  },
  {
   "cell_type": "code",
   "execution_count": null,
   "id": "b089d1a5-4cbb-4aa2-90bc-d96cc0bb3acb",
   "metadata": {
    "tags": []
   },
   "outputs": [],
   "source": [
    "def write_to_CongressionalBillsDB(CongressionalBillInfoOBJ, dynamodb = None):\n",
    "    if not dynamodb:\n",
    "        dynamodb = boto3.resource('dynamodb', endpoint_url=\"https://dynamodb.us-east-1.amazonaws.com\")\n",
    "\n",
    "    table = dynamodb.Table('CongressionalBillsDB-iupecu7kgngs3cdnckvjmtrgmm-dev')\n",
    "    response = table.put_item(\n",
    "       Item={\n",
    "            'id': CongressionalBillInfoOBJ.ID,\n",
    "            'Title': CongressionalBillInfoOBJ.Title,\n",
    "            'Summary': CongressionalBillInfoOBJ.Summary,\n",
    "            'IntroducedDate': CongressionalBillInfoOBJ.IntroducedDate,\n",
    "            'UpdatedDate': CongressionalBillInfoOBJ.UpdatedDate,\n",
    "            'PDF_URL': CongressionalBillInfoOBJ.PDF_URL,\n",
    "            'Party': CongressionalBillInfoOBJ.Party,\n",
    "            'PolicyArea': CongressionalBillInfoOBJ.PolicyArea,\n",
    "            'Chamber': CongressionalBillInfoOBJ.Chamber,\n",
    "            'OriginChamber': CongressionalBillInfoOBJ.OriginChamber,\n",
    "            'Days': CongressionalBillInfoOBJ.Days,\n",
    "            'Aye' : CongressionalBillInfoOBJ.Aye,\n",
    "            'Nay' : CongressionalBillInfoOBJ.Nay,\n",
    "            'Not_Voting' : CongressionalBillInfoOBJ.Not_Voting,\n",
    "            'Aye_Name_Party_State': CongressionalBillInfoOBJ.Aye_Name_Party_State,\n",
    "            'Nay_Name_Party_State': CongressionalBillInfoOBJ.Nay_Name_Party_State,\n",
    "            'Not_Voting_Name_Party_State': CongressionalBillInfoOBJ.Not_Voting_Name_Party_State,\n",
    "            'Present' : CongressionalBillInfoOBJ.Present,\n",
    "            'Present_Name_Party_State' : CongressionalBillInfoOBJ.Present_Name_Party_State,\n",
    "            'DemocratAyeCount' : CongressionalBillInfoOBJ.DemocratAyeCount,\n",
    "            'RepublicanAyeCount' : CongressionalBillInfoOBJ.RepublicanAyeCount,\n",
    "            'IndependentAyeCount' : CongressionalBillInfoOBJ.IndependentAyeCount,\n",
    "            'RepublicanNayCount' : CongressionalBillInfoOBJ.RepublicanNayCount,\n",
    "            'DemocratNayCount' : CongressionalBillInfoOBJ.DemocratNayCount,\n",
    "            'IndependentNayCount' : CongressionalBillInfoOBJ.IndependentNayCount,\n",
    "            'DemocratNotVotingCount' : CongressionalBillInfoOBJ.DemocratNotVotingCount,\n",
    "            'RepublicanNotVotingCount' : CongressionalBillInfoOBJ.RepublicanNotVotingCount,\n",
    "            'IndependentNotVotingCount': CongressionalBillInfoOBJ.IndependentNotVotingCount,\n",
    "            'Result': CongressionalBillInfoOBJ.Result,\n",
    "            'Session': CongressionalBillInfoOBJ.Session,\n",
    "            'Category': CongressionalBillInfoOBJ.Category\n",
    "        }\n",
    "    )\n",
    "    return response"
   ]
  },
  {
   "cell_type": "code",
   "execution_count": null,
   "id": "31be7ea9-af7a-48d1-b9ff-8895dc6425fb",
   "metadata": {
    "tags": []
   },
   "outputs": [],
   "source": [
    "for Bill in Full_Bill_OBJ_List:\n",
    "    write_to_CongressionalBillsDB(Bill)"
   ]
  },
  {
   "cell_type": "markdown",
   "id": "d862f7ae-41cc-44e6-afc6-fcc33f293a95",
   "metadata": {},
   "source": [
    "### Write all Politician Information including Votes to S3 based on CongressionalBillsDB"
   ]
  },
  {
   "cell_type": "code",
   "execution_count": 4,
   "id": "4943a14c-0a41-4d83-8182-3a747264a691",
   "metadata": {
    "tags": []
   },
   "outputs": [],
   "source": [
    "import requests\n",
    "import re\n",
    "import ast\n",
    "import operator\n",
    "import regex\n",
    "import os, shutil\n",
    "import urllib.request\n",
    "from PIL import Image\n",
    "import pickle\n",
    "import time\n",
    "import sys\n",
    "import gzip\n",
    "import os"
   ]
  },
  {
   "cell_type": "code",
   "execution_count": 5,
   "id": "d9f49120-2472-459e-8cd2-24fa4ef8200d",
   "metadata": {
    "tags": []
   },
   "outputs": [],
   "source": [
    "import boto3\n",
    "from boto3.dynamodb.conditions import Key, Attr\n",
    "from botocore.exceptions import ClientError\n",
    "import json\n",
    "import pandas as pd\n",
    "from datetime import datetime"
   ]
  },
  {
   "cell_type": "markdown",
   "id": "050ba510-6427-4923-a51c-bf37aba9055d",
   "metadata": {},
   "source": [
    "#### Read all the legislation from the Congressional Bill DB"
   ]
  },
  {
   "cell_type": "code",
   "execution_count": 9,
   "id": "ee955e28-541d-4bed-b179-b6b34d85d295",
   "metadata": {
    "tags": []
   },
   "outputs": [],
   "source": [
    "def query_Congress_Leg_DB(dynamodb = None):\n",
    "    if not dynamodb:\n",
    "        dynamodb = boto3.resource('dynamodb', endpoint_url=\"https://dynamodb.us-east-1.amazonaws.com\")\n",
    "    table = dynamodb.Table('CongressionalBillsDB-iupecu7kgngs3cdnckvjmtrgmm-dev')\n",
    "    response = table.scan()\n",
    "    items = response['Items']\n",
    "    while 'LastEvaluatedKey' in response:\n",
    "        response = table.scan(ExclusiveStartKey=response['LastEvaluatedKey'])\n",
    "        items.extend(response['Items'])\n",
    "    return items\n",
    "\n",
    "Prior_Voted_Legistlation = query_Congress_Leg_DB()\n",
    "Adjusted_Prior_Voted_Legistlation = Prior_Voted_Legistlation.copy()"
   ]
  },
  {
   "cell_type": "markdown",
   "id": "c79a29ac-f7c5-4d98-8a62-5a0fb145af11",
   "metadata": {},
   "source": [
    "The Code below takes a legislation dictionary object and finds if there are any \"Democratic\" mentions and updates them to say \"Democrat\" and writes again to CongressionalBills DB"
   ]
  },
  {
   "cell_type": "code",
   "execution_count": 10,
   "id": "30dcd1bb-8f65-40b1-bb89-00fcd62b3afe",
   "metadata": {
    "tags": []
   },
   "outputs": [],
   "source": [
    "def write_to_CongressionalBillsDB_Dictionary(CongressionalBillInfoDict, dynamodb = None):\n",
    "    if not dynamodb:\n",
    "        dynamodb = boto3.resource('dynamodb', endpoint_url=\"https://dynamodb.us-east-1.amazonaws.com\")\n",
    "\n",
    "    table = dynamodb.Table('CongressionalBillsDB-iupecu7kgngs3cdnckvjmtrgmm-dev')\n",
    "    response = table.put_item(\n",
    "       Item=CongressionalBillInfoDict\n",
    "    )\n",
    "    return response"
   ]
  },
  {
   "cell_type": "markdown",
   "id": "5fcb1a93-71d2-40c9-9dd7-f4b9bfaabb84",
   "metadata": {},
   "source": [
    "Update the Days based on the current date and the UpdatedDate Time and change the chamber text from 'h' and 's' to House and Senate"
   ]
  },
  {
   "cell_type": "code",
   "execution_count": 11,
   "id": "4bb092f1-caa7-48ab-85e4-84c4ecc97eec",
   "metadata": {
    "tags": []
   },
   "outputs": [],
   "source": [
    "for leg in Adjusted_Prior_Voted_Legistlation:\n",
    "    current_date = datetime.now()\n",
    "    \n",
    "    updated_date = leg['UpdatedDate'] \n",
    "    prior_date = datetime.strptime(updated_date, '%Y-%m-%d')\n",
    "\n",
    "    # Calculate the number of days between the current date and the prior date\n",
    "    days_difference = (current_date - prior_date).days\n",
    "    leg['Days'] = days_difference\n",
    "    \n",
    "    if leg['Chamber'] == 'h':\n",
    "        leg['Chamber'] = 'House'\n",
    "    elif leg['Chamber'] == 's':\n",
    "        leg['Chamber'] = 'Senate'\n",
    "     \n",
    "    write_to_CongressionalBillsDB_Dictionary(leg)"
   ]
  },
  {
   "cell_type": "markdown",
   "id": "7d8e7392-46ee-4b66-9342-52eabef21158",
   "metadata": {},
   "source": [
    "#### Read all the Politicians stored in DynamoDB"
   ]
  },
  {
   "cell_type": "code",
   "execution_count": null,
   "id": "b89af123-2da5-4ac0-9b71-0b3fcfb93810",
   "metadata": {
    "tags": []
   },
   "outputs": [],
   "source": [
    "def query_Politicians_DB(dynamodb = None):\n",
    "    if not dynamodb:\n",
    "        dynamodb = boto3.resource('dynamodb', endpoint_url=\"https://dynamodb.us-east-1.amazonaws.com\")\n",
    "    table = dynamodb.Table('PoliticiansDB-iupecu7kgngs3cdnckvjmtrgmm-dev')\n",
    "    response = table.scan()\n",
    "    items = response['Items']\n",
    "    while 'LastEvaluatedKey' in response:\n",
    "        response = table.scan(ExclusiveStartKey=response['LastEvaluatedKey'])\n",
    "        items.extend(response['Items'])\n",
    "    return items\n",
    "Current_DB_Politicians = query_Politicians_DB()"
   ]
  },
  {
   "cell_type": "code",
   "execution_count": null,
   "id": "0eac2a80-4938-428c-b3c3-3c1c1d19d675",
   "metadata": {
    "tags": []
   },
   "outputs": [],
   "source": [
    "Politician_Party_Dictionary = {}\n",
    "for politician in Current_DB_Politicians:\n",
    "    Politician_Party_Dictionary[politician['alternateID']] = politician['Party']"
   ]
  },
  {
   "cell_type": "markdown",
   "id": "49510c56-018d-4fa5-8498-5a9d982bdbaa",
   "metadata": {},
   "source": [
    "#### Write all the politician information with the corresponding legislation information on each voted bill to a JSON file and then save to S3"
   ]
  },
  {
   "cell_type": "markdown",
   "id": "5ee00b47-bc8a-4d87-aa76-8584b85a3c94",
   "metadata": {},
   "source": [
    "Create a folder for saving JSON files to"
   ]
  },
  {
   "cell_type": "code",
   "execution_count": null,
   "id": "6a3cfd7d-c97c-408a-8fb5-432a92903db2",
   "metadata": {
    "tags": []
   },
   "outputs": [],
   "source": [
    "import os\n",
    "# Specify the directory you want to clear\n",
    "folder_path = 'PoliticianJSONFolder-OrderedLegislation/'\n",
    "# Create the nested folders\n",
    "os.makedirs(folder_path, exist_ok=True)"
   ]
  },
  {
   "cell_type": "code",
   "execution_count": null,
   "id": "7b60e205-1a12-4ca5-904f-58c728f2fbc2",
   "metadata": {
    "tags": []
   },
   "outputs": [],
   "source": [
    "for politician in Current_DB_Politicians:\n",
    "    \n",
    "    pol_alt_id = politician['alternateID']\n",
    "    print(pol_alt_id)\n",
    "    Party_of_Politician_In_Primary_For_Loop = politician['Party']\n",
    "    \n",
    "    pol_aye_vote_dict = {}\n",
    "    pol_nay_vote_dict = {}\n",
    "    pol_no_vote_dict = {}\n",
    "    pol_present_vote_dict = {}\n",
    "    \n",
    "    Pol_Sides_With_Republicans = 0\n",
    "    Pol_Sides_With_Democrats = 0\n",
    "    Pol_Did_Not_Vote = 0\n",
    "    Pol_Present = 0\n",
    "    Total_Votes_Aye_Nay_Present_Not_Voting = 0\n",
    "\n",
    "    for legislation in Adjusted_Prior_Voted_Legistlation:\n",
    "        \n",
    "        LegislationRepublicanAyeCount = 0\n",
    "        LegislationRepublicanNayCount = 0\n",
    "        LegislationDemocratAyeCount = 0\n",
    "        LegislationDemocratNayCount = 0\n",
    "        \n",
    "        Politician_Vote_For_Specific_Legislation = \"\"\n",
    "\n",
    "        for aye_legislation_pol in legislation['Aye_Name_Party_State'].keys():\n",
    "            \n",
    "            \n",
    "            Pol_Party = Politician_Party_Dictionary[aye_legislation_pol]\n",
    "            if Pol_Party == \"Republican\":\n",
    "                LegislationRepublicanAyeCount+=1\n",
    "            elif Pol_Party == \"Democrat\":\n",
    "                LegislationDemocratAyeCount+=1\n",
    "\n",
    "            if aye_legislation_pol == pol_alt_id:\n",
    "                temp_legislation = legislation.copy()\n",
    "                Politician_Vote_For_Specific_Legislation = \"Aye\"\n",
    "                Total_Votes_Aye_Nay_Present_Not_Voting+=1\n",
    "                temp_legislation['Aye'] = \"Empty for Individual Politician S3 JSON Retrieval Purposes\"\n",
    "                temp_legislation['Aye_Name_Party_State'] = \"Empty for Individual Politician S3 JSON Retrieval Purposes\"\n",
    "                temp_legislation['Nay'] = \"Empty for Individual Politician S3 JSON Retrieval Purposes\"\n",
    "                temp_legislation['Nay_Name_Party_State'] = \"Empty for Individual Politician S3 JSON Retrieval Purposes\"\n",
    "                temp_legislation['Not_Voting'] = \"Empty for Individual Politician S3 JSON Retrieval Purposes\"\n",
    "                temp_legislation['Not_Voting_Name_Party_State'] = \"Empty for Individual Politician S3 JSON Retrieval Purposes\"\n",
    "                temp_legislation['Present'] = \"Empty for Individual Politician S3 JSON Retrieval Purposes\"\n",
    "                pol_aye_vote_dict[legislation['id']] = temp_legislation\n",
    "                # break\n",
    "        \n",
    "        for nay_legislation_pol in legislation['Nay_Name_Party_State'].keys():\n",
    "            \n",
    "            Pol_Party = Politician_Party_Dictionary[nay_legislation_pol]\n",
    "            if Pol_Party == \"Republican\":\n",
    "                LegislationRepublicanNayCount+=1\n",
    "            elif Pol_Party == \"Democrat\":\n",
    "                LegislationDemocratNayCount+=1\n",
    "            \n",
    "            if nay_legislation_pol == pol_alt_id:\n",
    "                temp_legislation = legislation.copy()\n",
    "                Politician_Vote_For_Specific_Legislation = \"Nay\"\n",
    "                Total_Votes_Aye_Nay_Present_Not_Voting+=1\n",
    "                temp_legislation['Aye'] = \"Empty for Individual Politician S3 JSON Retrieval Purposes\"\n",
    "                temp_legislation['Aye_Name_Party_State'] = \"Empty for Individual Politician S3 JSON Retrieval Purposes\"\n",
    "                temp_legislation['Nay'] = \"Empty for Individual Politician S3 JSON Retrieval Purposes\"\n",
    "                temp_legislation['Nay_Name_Party_State'] = \"Empty for Individual Politician S3 JSON Retrieval Purposes\"\n",
    "                temp_legislation['Not_Voting'] = \"Empty for Individual Politician S3 JSON Retrieval Purposes\"\n",
    "                temp_legislation['Not_Voting_Name_Party_State'] = \"Empty for Individual Politician S3 JSON Retrieval Purposes\"\n",
    "                temp_legislation['Present'] = \"Empty for Individual Politician S3 JSON Retrieval Purposes\"\n",
    "                pol_nay_vote_dict[legislation['id']] = temp_legislation\n",
    "                # break\n",
    "        \n",
    "        for not_voting_legislation_pol in legislation['Not_Voting_Name_Party_State'].keys():\n",
    "            if not_voting_legislation_pol == pol_alt_id:\n",
    "                temp_legislation = legislation.copy()\n",
    "                Politician_Vote_For_Specific_Legislation = \"Not Voting\"\n",
    "                Pol_Did_Not_Vote+=1\n",
    "                Total_Votes_Aye_Nay_Present_Not_Voting+=1\n",
    "                temp_legislation['Aye'] = \"Empty for Individual Politician S3 JSON Retrieval Purposes\"\n",
    "                temp_legislation['Aye_Name_Party_State'] = \"Empty for Individual Politician S3 JSON Retrieval Purposes\"\n",
    "                temp_legislation['Nay'] = \"Empty for Individual Politician S3 JSON Retrieval Purposes\"\n",
    "                temp_legislation['Nay_Name_Party_State'] = \"Empty for Individual Politician S3 JSON Retrieval Purposes\"\n",
    "                temp_legislation['Not_Voting'] = \"Empty for Individual Politician S3 JSON Retrieval Purposes\"\n",
    "                temp_legislation['Not_Voting_Name_Party_State'] = \"Empty for Individual Politician S3 JSON Retrieval Purposes\"\n",
    "                temp_legislation['Present'] = \"Empty for Individual Politician S3 JSON Retrieval Purposes\"\n",
    "                pol_no_vote_dict[legislation['id']] = temp_legislation\n",
    "                # break\n",
    "                \n",
    "        for present_voting_legislation_pol in legislation['Present_Name_Party_State'].keys():\n",
    "            if present_voting_legislation_pol == pol_alt_id:\n",
    "                temp_legislation = legislation.copy()\n",
    "                Politician_Vote_For_Specific_Legislation = \"Present\"\n",
    "                Pol_Present+=1\n",
    "                Total_Votes_Aye_Nay_Present_Not_Voting+=1\n",
    "                temp_legislation['Aye'] = \"Empty for Individual Politician S3 JSON Retrieval Purposes\"\n",
    "                temp_legislation['Aye_Name_Party_State'] = \"Empty for Individual Politician S3 JSON Retrieval Purposes\"\n",
    "                temp_legislation['Nay'] = \"Empty for Individual Politician S3 JSON Retrieval Purposes\"\n",
    "                temp_legislation['Nay_Name_Party_State'] = \"Empty for Individual Politician S3 JSON Retrieval Purposes\"\n",
    "                temp_legislation['Not_Voting'] = \"Empty for Individual Politician S3 JSON Retrieval Purposes\"\n",
    "                temp_legislation['Not_Voting_Name_Party_State'] = \"Empty for Individual Politician S3 JSON Retrieval Purposes\"\n",
    "                temp_legislation['Present'] = \"Empty for Individual Politician S3 JSON Retrieval Purposes\"\n",
    "                pol_present_vote_dict[legislation['id']] = temp_legislation\n",
    "                # break\n",
    "                \n",
    "        # Determine the number of times that a politician votes with a specific party\n",
    "        if Politician_Vote_For_Specific_Legislation == \"Aye\" and Party_of_Politician_In_Primary_For_Loop == \"Republican\":\n",
    "            \n",
    "            if LegislationRepublicanAyeCount >= LegislationRepublicanNayCount:\n",
    "                Pol_Sides_With_Republicans+=1\n",
    "            else:\n",
    "                Pol_Sides_With_Democrats+=1\n",
    "                \n",
    "        elif Politician_Vote_For_Specific_Legislation == \"Aye\" and Party_of_Politician_In_Primary_For_Loop == \"Democrat\":\n",
    "            \n",
    "            if LegislationDemocratAyeCount >= LegislationDemocratNayCount:\n",
    "                Pol_Sides_With_Democrats+=1\n",
    "            else:\n",
    "                Pol_Sides_With_Republicans+=1\n",
    "                \n",
    "        elif Politician_Vote_For_Specific_Legislation == \"Nay\" and Party_of_Politician_In_Primary_For_Loop == \"Republican\":\n",
    "            \n",
    "            if LegislationRepublicanNayCount >= LegislationRepublicanAyeCount:\n",
    "                Pol_Sides_With_Republicans+=1\n",
    "            else:\n",
    "                Pol_Sides_With_Democrats+=1\n",
    "                \n",
    "        elif Politician_Vote_For_Specific_Legislation == \"Nay\" and Party_of_Politician_In_Primary_For_Loop == \"Democrat\":\n",
    "            \n",
    "            if LegislationDemocratNayCount >= LegislationDemocratAyeCount:\n",
    "                Pol_Sides_With_Democrats+=1\n",
    "            else:\n",
    "                Pol_Sides_With_Republicans+=1\n",
    "                \n",
    "        elif Politician_Vote_For_Specific_Legislation == \"Aye\" and Party_of_Politician_In_Primary_For_Loop == \"Independent\":\n",
    "            \n",
    "            if LegislationDemocratAyeCount >= LegislationDemocratNayCount:\n",
    "                Pol_Sides_With_Democrats+=1\n",
    "            elif LegislationRepublicanAyeCount >= LegislationRepublicanNayCount:\n",
    "                Pol_Sides_With_Republicans+=1\n",
    "        \n",
    "        elif Politician_Vote_For_Specific_Legislation == \"Nay\" and Party_of_Politician_In_Primary_For_Loop == \"Independent\":\n",
    "            \n",
    "            if LegislationDemocratNayCount >= LegislationDemocratAyeCount:\n",
    "                Pol_Sides_With_Democrats+=1\n",
    "            elif LegislationRepublicanNayCount >= LegislationRepublicanAyeCount:\n",
    "                Pol_Sides_With_Republicans+=1\n",
    "            \n",
    "    #Determine the overall percentage that a politician votes by Republican or Democrat\n",
    "    PercentVoteWithRepublicans = Pol_Sides_With_Republicans/Total_Votes_Aye_Nay_Present_Not_Voting\n",
    "    PercentVoteWithDemocrats = Pol_Sides_With_Democrats/Total_Votes_Aye_Nay_Present_Not_Voting\n",
    "    PercentDidNotVote = Pol_Did_Not_Vote/Total_Votes_Aye_Nay_Present_Not_Voting\n",
    "    PercentPresent = Pol_Present/Total_Votes_Aye_Nay_Present_Not_Voting\n",
    "    \n",
    "    \n",
    "    politician['PercentVoteWithRepublicans'] = PercentVoteWithRepublicans\n",
    "    politician['PercentVoteWithDemocrats'] = PercentVoteWithDemocrats\n",
    "    politician['PercentDidNotVote'] = PercentDidNotVote\n",
    "    politician['PercentPresent'] = PercentPresent\n",
    "    \n",
    "    current_date = datetime.now()\n",
    "    \n",
    "    # Order the Politician Aye Votes based on last updated date\n",
    "    days_diff_array = []\n",
    "    leg_id_list = []\n",
    "    for aye_vote in pol_aye_vote_dict:\n",
    "        updated_date = pol_aye_vote_dict[aye_vote]['UpdatedDate']\n",
    "        prior_date = datetime.strptime(updated_date, '%Y-%m-%d')\n",
    "\n",
    "        # Calculate the number of days between the current date and the prior date\n",
    "        days_difference = (current_date - prior_date).days\n",
    "        days_diff_array.append(days_difference)\n",
    "        leg_id_list.append(aye_vote)\n",
    "    \n",
    "    sorted_pairs = sorted(zip(days_diff_array, leg_id_list))\n",
    "    # Extract the elements of list b in the sorted order\n",
    "    sorted_ids = [element for _, element in sorted_pairs]\n",
    "    \n",
    "    pol_aye_vote_dict_with_ordered_index_keys = {}\n",
    "    index_counter = 0\n",
    "    for leg_id in sorted_ids:\n",
    "        pol_aye_vote_dict_with_ordered_index_keys[index_counter] = pol_aye_vote_dict[leg_id]\n",
    "        index_counter+=1\n",
    "        \n",
    "    # Order the Politician Nay Votes based on last updated date\n",
    "    days_diff_array = []\n",
    "    leg_id_list = []\n",
    "    for nay_vote in pol_nay_vote_dict:\n",
    "        updated_date = pol_nay_vote_dict[nay_vote]['UpdatedDate']\n",
    "        prior_date = datetime.strptime(updated_date, '%Y-%m-%d')\n",
    "\n",
    "        # Calculate the number of days between the current date and the prior date\n",
    "        days_difference = (current_date - prior_date).days\n",
    "        days_diff_array.append(days_difference)\n",
    "        leg_id_list.append(nay_vote)\n",
    "    \n",
    "    sorted_pairs = sorted(zip(days_diff_array, leg_id_list))\n",
    "    # Extract the elements of list b in the sorted order\n",
    "    sorted_ids = [element for _, element in sorted_pairs]\n",
    "    \n",
    "    pol_nay_vote_dict_with_ordered_index_keys = {}\n",
    "    index_counter = 0\n",
    "    for leg_id in sorted_ids:\n",
    "        pol_nay_vote_dict_with_ordered_index_keys[index_counter] = pol_nay_vote_dict[leg_id]\n",
    "        index_counter+=1\n",
    "    \n",
    "    # Order the Politician Not Voting Votes based on last updated date\n",
    "    days_diff_array = []\n",
    "    leg_id_list = []\n",
    "    for no_vote in pol_no_vote_dict:\n",
    "        updated_date = pol_no_vote_dict[no_vote]['UpdatedDate']\n",
    "        prior_date = datetime.strptime(updated_date, '%Y-%m-%d')\n",
    "\n",
    "        # Calculate the number of days between the current date and the prior date\n",
    "        days_difference = (current_date - prior_date).days\n",
    "        days_diff_array.append(days_difference)\n",
    "        leg_id_list.append(no_vote)\n",
    "    \n",
    "    sorted_pairs = sorted(zip(days_diff_array, leg_id_list))\n",
    "    # Extract the elements of list b in the sorted order\n",
    "    sorted_ids = [element for _, element in sorted_pairs]\n",
    "    \n",
    "    pol_no_vote_dict_with_ordered_index_keys = {}\n",
    "    index_counter = 0\n",
    "    for leg_id in sorted_ids:\n",
    "        pol_no_vote_dict_with_ordered_index_keys[index_counter] = pol_no_vote_dict[leg_id]\n",
    "        index_counter+=1\n",
    "    \n",
    "    \n",
    "    politician['AyeVotedBills'] = pol_aye_vote_dict_with_ordered_index_keys\n",
    "    politician['NayVotedBills'] = pol_nay_vote_dict_with_ordered_index_keys\n",
    "    politician['NotVotedBills'] = pol_no_vote_dict_with_ordered_index_keys\n",
    "    \n",
    "    # Specify the filename\n",
    "    filename = \"PoliticianJSONFolder-OrderedLegislation/\" + politician['id'] + '.json'\n",
    "    # Convert Decimal to string during serialization\n",
    "\n",
    "    # Open the file in write mode ('w') and write the dictionary\n",
    "    with open(filename, 'w') as file:\n",
    "        json.dump(politician, file, default = str, indent=4)  # Use 'indent' for pretty printing\n",
    "\n",
    "    bucket_name = \"moderateapps3bucket01959-dev\"\n",
    "    file_name_in_s3 = \"public/\" + filename\n",
    "\n",
    "    # json_str = json.dumps(politician, default=str)\n",
    "    # print(type(json_str))\n",
    "    # json_data = json.loads(json_str)\n",
    "\n",
    "    s3 = boto3.client('s3')\n",
    "    with open(filename, \"rb\") as f:\n",
    "        bucket = \"moderateapps3bucket01959-dev\"\n",
    "        save_string = \"public/\" + filename\n",
    "        s3.upload_fileobj(f, bucket, save_string)\n"
   ]
  },
  {
   "cell_type": "markdown",
   "id": "3cf92ba4-ab0f-4339-a5ed-c56281fbafa0",
   "metadata": {},
   "source": [
    "#### Delete All the JSON files in the Folder"
   ]
  },
  {
   "cell_type": "code",
   "execution_count": null,
   "id": "548c1378-c941-4cab-9e22-9221924380ad",
   "metadata": {
    "tags": []
   },
   "outputs": [],
   "source": [
    "# Specify the directory you want to clear\n",
    "folder_path = 'PoliticianJSONFolder-OrderedLegislation/'\n",
    "\n",
    "# Loop through all files in the directory\n",
    "for filename in os.listdir(folder_path):\n",
    "    file_path = os.path.join(folder_path, filename)\n",
    "    try:\n",
    "        # Check if it is a file and not a directory\n",
    "        if os.path.isfile(file_path) or os.path.islink(file_path):\n",
    "            os.unlink(file_path) # This will delete the file\n",
    "        # Uncomment below if you also want to remove subdirectories\n",
    "        # elif os.path.isdir(file_path):\n",
    "        #     shutil.rmtree(file_path) # Be careful with this, it deletes directories\n",
    "    except Exception as e:\n",
    "        print(f'Failed to delete {file_path}. Reason: {e}')\n"
   ]
  },
  {
   "cell_type": "code",
   "execution_count": null,
   "id": "5a8ea14e-cca4-4b1c-af75-f1a600c27132",
   "metadata": {},
   "outputs": [],
   "source": []
  }
 ],
 "metadata": {
  "availableInstances": [
   {
    "_defaultOrder": 0,
    "_isFastLaunch": true,
    "category": "General purpose",
    "gpuNum": 0,
    "hideHardwareSpecs": false,
    "memoryGiB": 4,
    "name": "ml.t3.medium",
    "vcpuNum": 2
   },
   {
    "_defaultOrder": 1,
    "_isFastLaunch": false,
    "category": "General purpose",
    "gpuNum": 0,
    "hideHardwareSpecs": false,
    "memoryGiB": 8,
    "name": "ml.t3.large",
    "vcpuNum": 2
   },
   {
    "_defaultOrder": 2,
    "_isFastLaunch": false,
    "category": "General purpose",
    "gpuNum": 0,
    "hideHardwareSpecs": false,
    "memoryGiB": 16,
    "name": "ml.t3.xlarge",
    "vcpuNum": 4
   },
   {
    "_defaultOrder": 3,
    "_isFastLaunch": false,
    "category": "General purpose",
    "gpuNum": 0,
    "hideHardwareSpecs": false,
    "memoryGiB": 32,
    "name": "ml.t3.2xlarge",
    "vcpuNum": 8
   },
   {
    "_defaultOrder": 4,
    "_isFastLaunch": true,
    "category": "General purpose",
    "gpuNum": 0,
    "hideHardwareSpecs": false,
    "memoryGiB": 8,
    "name": "ml.m5.large",
    "vcpuNum": 2
   },
   {
    "_defaultOrder": 5,
    "_isFastLaunch": false,
    "category": "General purpose",
    "gpuNum": 0,
    "hideHardwareSpecs": false,
    "memoryGiB": 16,
    "name": "ml.m5.xlarge",
    "vcpuNum": 4
   },
   {
    "_defaultOrder": 6,
    "_isFastLaunch": false,
    "category": "General purpose",
    "gpuNum": 0,
    "hideHardwareSpecs": false,
    "memoryGiB": 32,
    "name": "ml.m5.2xlarge",
    "vcpuNum": 8
   },
   {
    "_defaultOrder": 7,
    "_isFastLaunch": false,
    "category": "General purpose",
    "gpuNum": 0,
    "hideHardwareSpecs": false,
    "memoryGiB": 64,
    "name": "ml.m5.4xlarge",
    "vcpuNum": 16
   },
   {
    "_defaultOrder": 8,
    "_isFastLaunch": false,
    "category": "General purpose",
    "gpuNum": 0,
    "hideHardwareSpecs": false,
    "memoryGiB": 128,
    "name": "ml.m5.8xlarge",
    "vcpuNum": 32
   },
   {
    "_defaultOrder": 9,
    "_isFastLaunch": false,
    "category": "General purpose",
    "gpuNum": 0,
    "hideHardwareSpecs": false,
    "memoryGiB": 192,
    "name": "ml.m5.12xlarge",
    "vcpuNum": 48
   },
   {
    "_defaultOrder": 10,
    "_isFastLaunch": false,
    "category": "General purpose",
    "gpuNum": 0,
    "hideHardwareSpecs": false,
    "memoryGiB": 256,
    "name": "ml.m5.16xlarge",
    "vcpuNum": 64
   },
   {
    "_defaultOrder": 11,
    "_isFastLaunch": false,
    "category": "General purpose",
    "gpuNum": 0,
    "hideHardwareSpecs": false,
    "memoryGiB": 384,
    "name": "ml.m5.24xlarge",
    "vcpuNum": 96
   },
   {
    "_defaultOrder": 12,
    "_isFastLaunch": false,
    "category": "General purpose",
    "gpuNum": 0,
    "hideHardwareSpecs": false,
    "memoryGiB": 8,
    "name": "ml.m5d.large",
    "vcpuNum": 2
   },
   {
    "_defaultOrder": 13,
    "_isFastLaunch": false,
    "category": "General purpose",
    "gpuNum": 0,
    "hideHardwareSpecs": false,
    "memoryGiB": 16,
    "name": "ml.m5d.xlarge",
    "vcpuNum": 4
   },
   {
    "_defaultOrder": 14,
    "_isFastLaunch": false,
    "category": "General purpose",
    "gpuNum": 0,
    "hideHardwareSpecs": false,
    "memoryGiB": 32,
    "name": "ml.m5d.2xlarge",
    "vcpuNum": 8
   },
   {
    "_defaultOrder": 15,
    "_isFastLaunch": false,
    "category": "General purpose",
    "gpuNum": 0,
    "hideHardwareSpecs": false,
    "memoryGiB": 64,
    "name": "ml.m5d.4xlarge",
    "vcpuNum": 16
   },
   {
    "_defaultOrder": 16,
    "_isFastLaunch": false,
    "category": "General purpose",
    "gpuNum": 0,
    "hideHardwareSpecs": false,
    "memoryGiB": 128,
    "name": "ml.m5d.8xlarge",
    "vcpuNum": 32
   },
   {
    "_defaultOrder": 17,
    "_isFastLaunch": false,
    "category": "General purpose",
    "gpuNum": 0,
    "hideHardwareSpecs": false,
    "memoryGiB": 192,
    "name": "ml.m5d.12xlarge",
    "vcpuNum": 48
   },
   {
    "_defaultOrder": 18,
    "_isFastLaunch": false,
    "category": "General purpose",
    "gpuNum": 0,
    "hideHardwareSpecs": false,
    "memoryGiB": 256,
    "name": "ml.m5d.16xlarge",
    "vcpuNum": 64
   },
   {
    "_defaultOrder": 19,
    "_isFastLaunch": false,
    "category": "General purpose",
    "gpuNum": 0,
    "hideHardwareSpecs": false,
    "memoryGiB": 384,
    "name": "ml.m5d.24xlarge",
    "vcpuNum": 96
   },
   {
    "_defaultOrder": 20,
    "_isFastLaunch": false,
    "category": "General purpose",
    "gpuNum": 0,
    "hideHardwareSpecs": true,
    "memoryGiB": 0,
    "name": "ml.geospatial.interactive",
    "supportedImageNames": [
     "sagemaker-geospatial-v1-0"
    ],
    "vcpuNum": 0
   },
   {
    "_defaultOrder": 21,
    "_isFastLaunch": true,
    "category": "Compute optimized",
    "gpuNum": 0,
    "hideHardwareSpecs": false,
    "memoryGiB": 4,
    "name": "ml.c5.large",
    "vcpuNum": 2
   },
   {
    "_defaultOrder": 22,
    "_isFastLaunch": false,
    "category": "Compute optimized",
    "gpuNum": 0,
    "hideHardwareSpecs": false,
    "memoryGiB": 8,
    "name": "ml.c5.xlarge",
    "vcpuNum": 4
   },
   {
    "_defaultOrder": 23,
    "_isFastLaunch": false,
    "category": "Compute optimized",
    "gpuNum": 0,
    "hideHardwareSpecs": false,
    "memoryGiB": 16,
    "name": "ml.c5.2xlarge",
    "vcpuNum": 8
   },
   {
    "_defaultOrder": 24,
    "_isFastLaunch": false,
    "category": "Compute optimized",
    "gpuNum": 0,
    "hideHardwareSpecs": false,
    "memoryGiB": 32,
    "name": "ml.c5.4xlarge",
    "vcpuNum": 16
   },
   {
    "_defaultOrder": 25,
    "_isFastLaunch": false,
    "category": "Compute optimized",
    "gpuNum": 0,
    "hideHardwareSpecs": false,
    "memoryGiB": 72,
    "name": "ml.c5.9xlarge",
    "vcpuNum": 36
   },
   {
    "_defaultOrder": 26,
    "_isFastLaunch": false,
    "category": "Compute optimized",
    "gpuNum": 0,
    "hideHardwareSpecs": false,
    "memoryGiB": 96,
    "name": "ml.c5.12xlarge",
    "vcpuNum": 48
   },
   {
    "_defaultOrder": 27,
    "_isFastLaunch": false,
    "category": "Compute optimized",
    "gpuNum": 0,
    "hideHardwareSpecs": false,
    "memoryGiB": 144,
    "name": "ml.c5.18xlarge",
    "vcpuNum": 72
   },
   {
    "_defaultOrder": 28,
    "_isFastLaunch": false,
    "category": "Compute optimized",
    "gpuNum": 0,
    "hideHardwareSpecs": false,
    "memoryGiB": 192,
    "name": "ml.c5.24xlarge",
    "vcpuNum": 96
   },
   {
    "_defaultOrder": 29,
    "_isFastLaunch": true,
    "category": "Accelerated computing",
    "gpuNum": 1,
    "hideHardwareSpecs": false,
    "memoryGiB": 16,
    "name": "ml.g4dn.xlarge",
    "vcpuNum": 4
   },
   {
    "_defaultOrder": 30,
    "_isFastLaunch": false,
    "category": "Accelerated computing",
    "gpuNum": 1,
    "hideHardwareSpecs": false,
    "memoryGiB": 32,
    "name": "ml.g4dn.2xlarge",
    "vcpuNum": 8
   },
   {
    "_defaultOrder": 31,
    "_isFastLaunch": false,
    "category": "Accelerated computing",
    "gpuNum": 1,
    "hideHardwareSpecs": false,
    "memoryGiB": 64,
    "name": "ml.g4dn.4xlarge",
    "vcpuNum": 16
   },
   {
    "_defaultOrder": 32,
    "_isFastLaunch": false,
    "category": "Accelerated computing",
    "gpuNum": 1,
    "hideHardwareSpecs": false,
    "memoryGiB": 128,
    "name": "ml.g4dn.8xlarge",
    "vcpuNum": 32
   },
   {
    "_defaultOrder": 33,
    "_isFastLaunch": false,
    "category": "Accelerated computing",
    "gpuNum": 4,
    "hideHardwareSpecs": false,
    "memoryGiB": 192,
    "name": "ml.g4dn.12xlarge",
    "vcpuNum": 48
   },
   {
    "_defaultOrder": 34,
    "_isFastLaunch": false,
    "category": "Accelerated computing",
    "gpuNum": 1,
    "hideHardwareSpecs": false,
    "memoryGiB": 256,
    "name": "ml.g4dn.16xlarge",
    "vcpuNum": 64
   },
   {
    "_defaultOrder": 35,
    "_isFastLaunch": false,
    "category": "Accelerated computing",
    "gpuNum": 1,
    "hideHardwareSpecs": false,
    "memoryGiB": 61,
    "name": "ml.p3.2xlarge",
    "vcpuNum": 8
   },
   {
    "_defaultOrder": 36,
    "_isFastLaunch": false,
    "category": "Accelerated computing",
    "gpuNum": 4,
    "hideHardwareSpecs": false,
    "memoryGiB": 244,
    "name": "ml.p3.8xlarge",
    "vcpuNum": 32
   },
   {
    "_defaultOrder": 37,
    "_isFastLaunch": false,
    "category": "Accelerated computing",
    "gpuNum": 8,
    "hideHardwareSpecs": false,
    "memoryGiB": 488,
    "name": "ml.p3.16xlarge",
    "vcpuNum": 64
   },
   {
    "_defaultOrder": 38,
    "_isFastLaunch": false,
    "category": "Accelerated computing",
    "gpuNum": 8,
    "hideHardwareSpecs": false,
    "memoryGiB": 768,
    "name": "ml.p3dn.24xlarge",
    "vcpuNum": 96
   },
   {
    "_defaultOrder": 39,
    "_isFastLaunch": false,
    "category": "Memory Optimized",
    "gpuNum": 0,
    "hideHardwareSpecs": false,
    "memoryGiB": 16,
    "name": "ml.r5.large",
    "vcpuNum": 2
   },
   {
    "_defaultOrder": 40,
    "_isFastLaunch": false,
    "category": "Memory Optimized",
    "gpuNum": 0,
    "hideHardwareSpecs": false,
    "memoryGiB": 32,
    "name": "ml.r5.xlarge",
    "vcpuNum": 4
   },
   {
    "_defaultOrder": 41,
    "_isFastLaunch": false,
    "category": "Memory Optimized",
    "gpuNum": 0,
    "hideHardwareSpecs": false,
    "memoryGiB": 64,
    "name": "ml.r5.2xlarge",
    "vcpuNum": 8
   },
   {
    "_defaultOrder": 42,
    "_isFastLaunch": false,
    "category": "Memory Optimized",
    "gpuNum": 0,
    "hideHardwareSpecs": false,
    "memoryGiB": 128,
    "name": "ml.r5.4xlarge",
    "vcpuNum": 16
   },
   {
    "_defaultOrder": 43,
    "_isFastLaunch": false,
    "category": "Memory Optimized",
    "gpuNum": 0,
    "hideHardwareSpecs": false,
    "memoryGiB": 256,
    "name": "ml.r5.8xlarge",
    "vcpuNum": 32
   },
   {
    "_defaultOrder": 44,
    "_isFastLaunch": false,
    "category": "Memory Optimized",
    "gpuNum": 0,
    "hideHardwareSpecs": false,
    "memoryGiB": 384,
    "name": "ml.r5.12xlarge",
    "vcpuNum": 48
   },
   {
    "_defaultOrder": 45,
    "_isFastLaunch": false,
    "category": "Memory Optimized",
    "gpuNum": 0,
    "hideHardwareSpecs": false,
    "memoryGiB": 512,
    "name": "ml.r5.16xlarge",
    "vcpuNum": 64
   },
   {
    "_defaultOrder": 46,
    "_isFastLaunch": false,
    "category": "Memory Optimized",
    "gpuNum": 0,
    "hideHardwareSpecs": false,
    "memoryGiB": 768,
    "name": "ml.r5.24xlarge",
    "vcpuNum": 96
   },
   {
    "_defaultOrder": 47,
    "_isFastLaunch": false,
    "category": "Accelerated computing",
    "gpuNum": 1,
    "hideHardwareSpecs": false,
    "memoryGiB": 16,
    "name": "ml.g5.xlarge",
    "vcpuNum": 4
   },
   {
    "_defaultOrder": 48,
    "_isFastLaunch": false,
    "category": "Accelerated computing",
    "gpuNum": 1,
    "hideHardwareSpecs": false,
    "memoryGiB": 32,
    "name": "ml.g5.2xlarge",
    "vcpuNum": 8
   },
   {
    "_defaultOrder": 49,
    "_isFastLaunch": false,
    "category": "Accelerated computing",
    "gpuNum": 1,
    "hideHardwareSpecs": false,
    "memoryGiB": 64,
    "name": "ml.g5.4xlarge",
    "vcpuNum": 16
   },
   {
    "_defaultOrder": 50,
    "_isFastLaunch": false,
    "category": "Accelerated computing",
    "gpuNum": 1,
    "hideHardwareSpecs": false,
    "memoryGiB": 128,
    "name": "ml.g5.8xlarge",
    "vcpuNum": 32
   },
   {
    "_defaultOrder": 51,
    "_isFastLaunch": false,
    "category": "Accelerated computing",
    "gpuNum": 1,
    "hideHardwareSpecs": false,
    "memoryGiB": 256,
    "name": "ml.g5.16xlarge",
    "vcpuNum": 64
   },
   {
    "_defaultOrder": 52,
    "_isFastLaunch": false,
    "category": "Accelerated computing",
    "gpuNum": 4,
    "hideHardwareSpecs": false,
    "memoryGiB": 192,
    "name": "ml.g5.12xlarge",
    "vcpuNum": 48
   },
   {
    "_defaultOrder": 53,
    "_isFastLaunch": false,
    "category": "Accelerated computing",
    "gpuNum": 4,
    "hideHardwareSpecs": false,
    "memoryGiB": 384,
    "name": "ml.g5.24xlarge",
    "vcpuNum": 96
   },
   {
    "_defaultOrder": 54,
    "_isFastLaunch": false,
    "category": "Accelerated computing",
    "gpuNum": 8,
    "hideHardwareSpecs": false,
    "memoryGiB": 768,
    "name": "ml.g5.48xlarge",
    "vcpuNum": 192
   },
   {
    "_defaultOrder": 55,
    "_isFastLaunch": false,
    "category": "Accelerated computing",
    "gpuNum": 8,
    "hideHardwareSpecs": false,
    "memoryGiB": 1152,
    "name": "ml.p4d.24xlarge",
    "vcpuNum": 96
   },
   {
    "_defaultOrder": 56,
    "_isFastLaunch": false,
    "category": "Accelerated computing",
    "gpuNum": 8,
    "hideHardwareSpecs": false,
    "memoryGiB": 1152,
    "name": "ml.p4de.24xlarge",
    "vcpuNum": 96
   },
   {
    "_defaultOrder": 57,
    "_isFastLaunch": false,
    "category": "Accelerated computing",
    "gpuNum": 0,
    "hideHardwareSpecs": false,
    "memoryGiB": 32,
    "name": "ml.trn1.2xlarge",
    "vcpuNum": 8
   },
   {
    "_defaultOrder": 58,
    "_isFastLaunch": false,
    "category": "Accelerated computing",
    "gpuNum": 0,
    "hideHardwareSpecs": false,
    "memoryGiB": 512,
    "name": "ml.trn1.32xlarge",
    "vcpuNum": 128
   },
   {
    "_defaultOrder": 59,
    "_isFastLaunch": false,
    "category": "Accelerated computing",
    "gpuNum": 0,
    "hideHardwareSpecs": false,
    "memoryGiB": 512,
    "name": "ml.trn1n.32xlarge",
    "vcpuNum": 128
   }
  ],
  "instance_type": "ml.t3.medium",
  "kernelspec": {
   "display_name": "Python 3 (Data Science 3.0)",
   "language": "python",
   "name": "python3__SAGEMAKER_INTERNAL__arn:aws:sagemaker:us-east-1:081325390199:image/sagemaker-data-science-310-v1"
  },
  "language_info": {
   "codemirror_mode": {
    "name": "ipython",
    "version": 3
   },
   "file_extension": ".py",
   "mimetype": "text/x-python",
   "name": "python",
   "nbconvert_exporter": "python",
   "pygments_lexer": "ipython3",
   "version": "3.10.6"
  },
  "lcc_arn": "arn:aws:sagemaker:us-east-1:658029854503:studio-lifecycle-config/modlifeconfig"
 },
 "nbformat": 4,
 "nbformat_minor": 5
}
