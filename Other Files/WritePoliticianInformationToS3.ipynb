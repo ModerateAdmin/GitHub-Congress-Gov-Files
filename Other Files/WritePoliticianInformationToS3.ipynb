{
 "cells": [
  {
   "cell_type": "markdown",
   "id": "cd7aa901-8c72-49f0-94a8-aff741fd720f",
   "metadata": {},
   "source": [
    "### Write all Politician Information including Votes to S3 based on CongressionalBillsDB- Not For Notebook Jobs"
   ]
  },
  {
   "cell_type": "code",
   "execution_count": 2,
   "id": "c7922b98-038a-4006-8645-9836f211a6bd",
   "metadata": {
    "tags": []
   },
   "outputs": [],
   "source": [
    "import requests\n",
    "import re\n",
    "import ast\n",
    "import operator\n",
    "import regex\n",
    "import os, shutil\n",
    "import urllib.request\n",
    "from PIL import Image\n",
    "import pickle\n",
    "import time\n",
    "import sys\n",
    "import gzip\n",
    "import os"
   ]
  },
  {
   "cell_type": "code",
   "execution_count": 3,
   "id": "f145d354-9e9b-408a-8a03-ea73f77c1add",
   "metadata": {
    "tags": []
   },
   "outputs": [],
   "source": [
    "import boto3\n",
    "from boto3.dynamodb.conditions import Key, Attr\n",
    "from botocore.exceptions import ClientError\n",
    "import json\n",
    "import pandas as pd"
   ]
  },
  {
   "cell_type": "markdown",
   "id": "3b20f08a-deb0-4908-a50f-de519d2ea446",
   "metadata": {},
   "source": [
    "#### Read all the legislation from the Congressional Bill DB"
   ]
  },
  {
   "cell_type": "code",
   "execution_count": 4,
   "id": "f01e4eef-a279-41a9-bad7-23a435d10236",
   "metadata": {
    "tags": []
   },
   "outputs": [],
   "source": [
    "def query_Congress_Leg_DB(dynamodb = None):\n",
    "    if not dynamodb:\n",
    "        dynamodb = boto3.resource('dynamodb', endpoint_url=\"https://dynamodb.us-east-1.amazonaws.com\")\n",
    "    table = dynamodb.Table('CongressionalBillsDB-iupecu7kgngs3cdnckvjmtrgmm-dev')\n",
    "    response = table.scan()\n",
    "    items = response['Items']\n",
    "    while 'LastEvaluatedKey' in response:\n",
    "        response = table.scan(ExclusiveStartKey=response['LastEvaluatedKey'])\n",
    "        items.extend(response['Items'])\n",
    "    return items\n",
    "\n",
    "Prior_Voted_Legistlation = query_Congress_Leg_DB()"
   ]
  },
  {
   "cell_type": "markdown",
   "id": "580dada0-b773-48dc-b790-0e09ad535165",
   "metadata": {},
   "source": [
    "#### Read all the Politicians stored in DynamoDB"
   ]
  },
  {
   "cell_type": "code",
   "execution_count": 5,
   "id": "07206217-133c-472f-bc8c-fab0c3fa5c75",
   "metadata": {
    "tags": []
   },
   "outputs": [],
   "source": [
    "def query_Politicians_DB(dynamodb = None):\n",
    "    if not dynamodb:\n",
    "        dynamodb = boto3.resource('dynamodb', endpoint_url=\"https://dynamodb.us-east-1.amazonaws.com\")\n",
    "    table = dynamodb.Table('PoliticiansDB-iupecu7kgngs3cdnckvjmtrgmm-dev')\n",
    "    response = table.scan()\n",
    "    items = response['Items']\n",
    "    while 'LastEvaluatedKey' in response:\n",
    "        response = table.scan(ExclusiveStartKey=response['LastEvaluatedKey'])\n",
    "        items.extend(response['Items'])\n",
    "    return items\n",
    "Current_DB_Politicians = query_Politicians_DB()"
   ]
  },
  {
   "cell_type": "code",
   "execution_count": 6,
   "id": "55a36012-3662-41eb-b1b9-70268da51429",
   "metadata": {
    "tags": []
   },
   "outputs": [
    {
     "data": {
      "text/plain": [
       "['Empty Not Created Yet']"
      ]
     },
     "execution_count": 6,
     "metadata": {},
     "output_type": "execute_result"
    }
   ],
   "source": [
    "Current_DB_Politicians[1]['NayVotedBills']"
   ]
  },
  {
   "cell_type": "code",
   "execution_count": 7,
   "id": "18e1242e-b79a-4014-b812-c44afc5beb96",
   "metadata": {
    "tags": []
   },
   "outputs": [],
   "source": [
    "not_in_id_list = []\n",
    "not_in_name_list = []\n",
    "not_in_main_id_list = []\n",
    "not_in_dictionary = {}\n",
    "for Politician in Current_DB_Politicians:\n",
    "    if Politician['NayVotedBills'][0] == 'Empty Not Created Yet':\n",
    "        not_in_main_id_list.append(Politician['id'])\n",
    "        not_in_id_list.append(Politician['alternateID'])\n",
    "        not_in_name_list.append(Politician['Name'])\n",
    "        not_in_dictionary[Politician['Name']] = [Politician['id'], Politician['alternateID']]"
   ]
  },
  {
   "cell_type": "code",
   "execution_count": 8,
   "id": "49f1873e-3a89-4bfb-a99e-1fd9c0c8904d",
   "metadata": {
    "tags": []
   },
   "outputs": [
    {
     "data": {
      "text/plain": [
       "{'Eleanor Holmes Norton': ['N000147', 'N000147'],\n",
       " 'Jack Reed': ['R000122', 'S259'],\n",
       " 'Margaret Wood Hassan': ['H001076', 'S388'],\n",
       " 'Celeste Maloy': ['M001228', 'M001228'],\n",
       " 'J. D. Vance': ['V000137', 'S421'],\n",
       " 'Michelle Fischbach': ['F000470', 'F000470'],\n",
       " 'Tim Scott': ['S001184', 'S365'],\n",
       " 'Ron Wyden': ['W000779', 'S247'],\n",
       " 'Catherine Cortez Masto': ['C001113', 'S385'],\n",
       " 'Mazie K. Hirono': ['H001042', 'S361'],\n",
       " 'Eric Sorensen': ['S001225', 'S001225'],\n",
       " 'Nathaniel Moran': ['M001224', 'S347'],\n",
       " 'Lisa Murkowski': ['M001153', 'S288'],\n",
       " 'Jennifer L. McClellan': ['M001227', 'M001227'],\n",
       " 'Mark R. Warner': ['W000805', 'S327'],\n",
       " 'John Cornyn': ['C001056', 'S287'],\n",
       " 'Raphael G. Warnock': ['W000790', 'S415'],\n",
       " 'Brian Schatz': ['S001194', 'S353'],\n",
       " 'Erin Houchin': ['H001093', 'H001093'],\n",
       " 'James Lankford': ['L000575', 'S378'],\n",
       " 'Rand Paul': ['P000603', 'S348'],\n",
       " 'Lindsey Graham': ['G000359', 'S293'],\n",
       " 'Christopher Murphy': ['M001169', 'S364'],\n",
       " 'Kevin Cramer': ['C001096', 'S398'],\n",
       " 'Jon Tester': ['T000464', 'S314'],\n",
       " 'John Fetterman': ['F000479', 'S418'],\n",
       " 'Steve Womack': ['W000809', 'W000809'],\n",
       " 'Susan M. Collins': ['C001035', 'S252'],\n",
       " 'Robert P. Casey Jr.': ['C001070', 'S309'],\n",
       " 'Tammy Duckworth': ['D000622', 'S386'],\n",
       " 'Mitch McConnell': ['M000355', 'S174'],\n",
       " 'Cory A. Booker': ['B001288', 'S370'],\n",
       " 'Shri Thanedar': ['T000488', 'T000488'],\n",
       " 'Gregorio Kilili Camacho Sablan': ['S001177', 'S001177'],\n",
       " 'Aumua Amata Coleman Radewagen': ['R000600', 'R000600'],\n",
       " 'Tina Smith': ['S001203', 'S394'],\n",
       " 'Stacey E. Plaskett': ['P000610', 'P000610'],\n",
       " 'Yadira Caraveo': ['C001134', 'C001134'],\n",
       " 'Marco Rubio': ['R000595', 'S350'],\n",
       " 'Roger Marshall': ['M001198', 'S411'],\n",
       " 'Jacky Rosen': ['R000608', 'S402'],\n",
       " 'Jasmine Crockett': ['C001130', 'C001130'],\n",
       " 'Mike Levin': ['L000593', 'L000593'],\n",
       " 'Mike Lee': ['L000577', 'S346'],\n",
       " 'Jill N. Tokuda': ['T000487', 'T000487'],\n",
       " 'John W. Hickenlooper': ['H000273', 'S408'],\n",
       " 'Frank Pallone, Jr.': ['P000034', 'P000034'],\n",
       " 'Joni Ernst': ['E000295', 'S376'],\n",
       " 'Rudy Yakym III': ['Y000067', 'Y000067'],\n",
       " 'Debbie Stabenow': ['S000770', 'S284'],\n",
       " 'John Hoeven': ['H001061', 'S344'],\n",
       " 'Roger F. Wicker': ['W000437', 'S318'],\n",
       " 'Shelley Moore Capito': ['C001047', 'S372'],\n",
       " 'Josh Brecheen': ['B001317', 'B001317'],\n",
       " 'Cynthia M. Lummis': ['L000571', 'S410'],\n",
       " 'Mike Braun': ['B001310', 'S397'],\n",
       " 'Jenniffer González-Colón': ['G000582', 'G000582'],\n",
       " 'Jeff Jackson': ['J000308', 'J000032'],\n",
       " 'Benjamin L. Cardin': ['C000141', 'S308'],\n",
       " 'Tim Kaine': ['K000384', 'S362'],\n",
       " 'John Kennedy': ['K000393', 'S389'],\n",
       " 'Harriet M. Hageman': ['H001096', 'H001096'],\n",
       " 'Sheldon Whitehouse': ['W000802', 'S316'],\n",
       " 'Gary C. Peters': ['P000595', 'S380'],\n",
       " 'Tommy Tuberville': ['T000278', 'S412'],\n",
       " 'Josh Hawley': ['H001089', 'S399'],\n",
       " 'Richard McCormick': ['M001218', 'M001218'],\n",
       " 'Robert E. Latta': ['L000566', 'L000566'],\n",
       " 'Bill Hagerty': ['H000601', 'S407'],\n",
       " 'Thomas R. Carper': ['C000174', 'S277'],\n",
       " 'Brian K. Fitzpatrick': ['F000466', 'F000466'],\n",
       " 'James C. Moylan': ['M001219', 'M001219'],\n",
       " 'Summer L. Lee': ['L000602', 'S346'],\n",
       " 'Chris Van Hollen': ['V000128', 'S390']}"
      ]
     },
     "execution_count": 8,
     "metadata": {},
     "output_type": "execute_result"
    }
   ],
   "source": [
    "not_in_dictionary"
   ]
  },
  {
   "cell_type": "markdown",
   "id": "4e3d3bb6-03b9-4bfa-aea8-24beb228562d",
   "metadata": {},
   "source": [
    "#### Write all the politician information with the corresponding legislation information on each voted bill to a JSON file and then save to S3"
   ]
  },
  {
   "cell_type": "code",
   "execution_count": null,
   "id": "36f8ffdc-7008-4111-b665-f7ae6e2cde9b",
   "metadata": {
    "tags": []
   },
   "outputs": [],
   "source": [
    "for politician in Current_DB_Politicians:\n",
    "\n",
    "    pol_aye_vote_dict = {}\n",
    "    for pol_bill in politician['AyeVotedBills']:\n",
    "        for bill in Prior_Voted_Legistlation:\n",
    "            if bill['id'] == pol_bill:\n",
    "                pol_aye_vote_dict[pol_bill] = bill\n",
    "                pol_aye_vote_dict[pol_bill]['Aye'] = [\"Empty for Data Retrieval Purposes\"]\n",
    "                pol_aye_vote_dict[pol_bill]['Nay'] = [\"Empty for Data Retrieval Purposes\"]\n",
    "                pol_aye_vote_dict[pol_bill]['Not_Voting'] = [\"Empty for Data Retrieval Purposes\"]\n",
    "                break\n",
    "    politician['AyeVotedBills'] = pol_aye_vote_dict\n",
    "\n",
    "    pol_nay_vote_dict = {}\n",
    "    for pol_bill in politician['NayVotedBills']:\n",
    "        for bill in Prior_Voted_Legistlation:\n",
    "            if bill['id'] == pol_bill:\n",
    "                pol_nay_vote_dict[pol_bill] = bill\n",
    "                pol_nay_vote_dict[pol_bill]['Aye'] = [\"Empty for Data Retrieval Purposes\"]\n",
    "                pol_nay_vote_dict[pol_bill]['Nay'] = [\"Empty for Data Retrieval Purposes\"]\n",
    "                pol_nay_vote_dict[pol_bill]['Not_Voting'] = [\"Empty for Data Retrieval Purposes\"]\n",
    "                break\n",
    "\n",
    "    politician['NayVotedBills'] = pol_nay_vote_dict\n",
    "\n",
    "    pol_no_vote_dict = {}\n",
    "    for pol_bill in politician['NotVotedBills']:\n",
    "        for bill in Prior_Voted_Legistlation:\n",
    "            if bill['id'] == pol_bill:\n",
    "                pol_no_vote_dict[pol_bill] = bill\n",
    "                pol_no_vote_dict[pol_bill]['Aye'] = [\"Empty for Data Retrieval Purposes\"]\n",
    "                pol_no_vote_dict[pol_bill]['Nay'] = [\"Empty for Data Retrieval Purposes\"]\n",
    "                pol_no_vote_dict[pol_bill]['Not_Voting'] = [\"Empty for Data Retrieval Purposes\"]\n",
    "                break\n",
    "\n",
    "    politician['NotVotedBills'] = pol_no_vote_dict\n",
    "\n",
    "    # Specify the filename\n",
    "    filename = \"PoliticianJSONFolder/\" + politician['id'] + '.json'\n",
    "    # Convert Decimal to string during serialization\n",
    "\n",
    "    # Open the file in write mode ('w') and write the dictionary\n",
    "    with open(filename, 'w') as file:\n",
    "        json.dump(politician, file, default = str, indent=4)  # Use 'indent' for pretty printing\n",
    "\n",
    "    bucket_name = \"moderateapps3bucket01959-dev\"\n",
    "    file_name_in_s3 = \"public/\" + filename\n",
    "\n",
    "    # json_str = json.dumps(politician, default=str)\n",
    "    # print(type(json_str))\n",
    "    # json_data = json.loads(json_str)\n",
    "\n",
    "    s3 = boto3.client('s3')\n",
    "    with open(filename, \"rb\") as f:\n",
    "        bucket = \"moderateapps3bucket01959-dev\"\n",
    "        save_string = \"public/\" + filename\n",
    "        s3.upload_fileobj(f, bucket, save_string)"
   ]
  },
  {
   "cell_type": "markdown",
   "id": "77d4cd40-a3de-4366-8d20-3b434de02c6a",
   "metadata": {},
   "source": [
    "#### Delete All the JSON files in the Folder"
   ]
  },
  {
   "cell_type": "code",
   "execution_count": null,
   "id": "4178de48-24c7-458d-8487-b118c4e8642d",
   "metadata": {},
   "outputs": [],
   "source": [
    "# Specify the directory you want to clear\n",
    "folder_path = 'PoliticianJSONFolder/'\n",
    "\n",
    "# Loop through all files in the directory\n",
    "for filename in os.listdir(folder_path):\n",
    "    file_path = os.path.join(folder_path, filename)\n",
    "    try:\n",
    "        # Check if it is a file and not a directory\n",
    "        if os.path.isfile(file_path) or os.path.islink(file_path):\n",
    "            os.unlink(file_path) # This will delete the file\n",
    "        # Uncomment below if you also want to remove subdirectories\n",
    "        # elif os.path.isdir(file_path):\n",
    "        #     shutil.rmtree(file_path) # Be careful with this, it deletes directories\n",
    "    except Exception as e:\n",
    "        print(f'Failed to delete {file_path}. Reason: {e}')\n"
   ]
  },
  {
   "cell_type": "code",
   "execution_count": null,
   "id": "add0461a-b717-4b53-82d1-68ea23233f86",
   "metadata": {},
   "outputs": [],
   "source": []
  },
  {
   "cell_type": "code",
   "execution_count": null,
   "id": "578e0400-7058-48b2-8919-8c8bc6bc3b09",
   "metadata": {},
   "outputs": [],
   "source": []
  },
  {
   "cell_type": "code",
   "execution_count": null,
   "id": "e1feac84-ce68-483c-a9a4-6bd2b2767cd3",
   "metadata": {},
   "outputs": [],
   "source": [
    "id_list = []\n",
    "\n",
    "name_list = []\n",
    "\n",
    "name_id_dict = {}"
   ]
  },
  {
   "cell_type": "code",
   "execution_count": null,
   "id": "7093d866-01be-486a-9b0b-e1bb0a18520a",
   "metadata": {
    "tags": []
   },
   "outputs": [],
   "source": [
    "import json\n",
    "\n",
    "# Open the JSON file for reading\n",
    "with open('data.json', 'r') as file:\n",
    "    # Parse the JSON file and convert it into a Python dictionary\n",
    "    data = json.load(file)"
   ]
  },
  {
   "cell_type": "code",
   "execution_count": null,
   "id": "096234f1-4eb0-4b42-a74c-02e9aaac770e",
   "metadata": {
    "tags": []
   },
   "outputs": [],
   "source": [
    "\n",
    "\n",
    "# for vote in data['votes']['No']:\n",
    "#     id_list.append(vote['id'])\n",
    "#     name_list.append(vote['display_name'])\n",
    "#     name_id_dict[vote['display_name']] = vote['id']\n",
    "for vote in data['votes']['Aye']:\n",
    "    id_list.append(vote['id'])\n",
    "    name_list.append(vote['display_name'])\n",
    "    name_id_dict[vote['display_name']] = vote['id']\n",
    "for vote in data['votes']['Not Voting']:\n",
    "    id_list.append(vote['id'])\n",
    "    name_list.append(vote['display_name'])\n",
    "    name_id_dict[vote['display_name']] = vote['id']"
   ]
  },
  {
   "cell_type": "code",
   "execution_count": null,
   "id": "1d44438b-9542-4d02-b1e1-d80a65acda58",
   "metadata": {},
   "outputs": [],
   "source": [
    "name_id_dict"
   ]
  },
  {
   "cell_type": "code",
   "execution_count": null,
   "id": "dd3f5468-470c-462c-90ae-a00e7651d028",
   "metadata": {},
   "outputs": [],
   "source": []
  }
 ],
 "metadata": {
  "availableInstances": [
   {
    "_defaultOrder": 0,
    "_isFastLaunch": true,
    "category": "General purpose",
    "gpuNum": 0,
    "hideHardwareSpecs": false,
    "memoryGiB": 4,
    "name": "ml.t3.medium",
    "vcpuNum": 2
   },
   {
    "_defaultOrder": 1,
    "_isFastLaunch": false,
    "category": "General purpose",
    "gpuNum": 0,
    "hideHardwareSpecs": false,
    "memoryGiB": 8,
    "name": "ml.t3.large",
    "vcpuNum": 2
   },
   {
    "_defaultOrder": 2,
    "_isFastLaunch": false,
    "category": "General purpose",
    "gpuNum": 0,
    "hideHardwareSpecs": false,
    "memoryGiB": 16,
    "name": "ml.t3.xlarge",
    "vcpuNum": 4
   },
   {
    "_defaultOrder": 3,
    "_isFastLaunch": false,
    "category": "General purpose",
    "gpuNum": 0,
    "hideHardwareSpecs": false,
    "memoryGiB": 32,
    "name": "ml.t3.2xlarge",
    "vcpuNum": 8
   },
   {
    "_defaultOrder": 4,
    "_isFastLaunch": true,
    "category": "General purpose",
    "gpuNum": 0,
    "hideHardwareSpecs": false,
    "memoryGiB": 8,
    "name": "ml.m5.large",
    "vcpuNum": 2
   },
   {
    "_defaultOrder": 5,
    "_isFastLaunch": false,
    "category": "General purpose",
    "gpuNum": 0,
    "hideHardwareSpecs": false,
    "memoryGiB": 16,
    "name": "ml.m5.xlarge",
    "vcpuNum": 4
   },
   {
    "_defaultOrder": 6,
    "_isFastLaunch": false,
    "category": "General purpose",
    "gpuNum": 0,
    "hideHardwareSpecs": false,
    "memoryGiB": 32,
    "name": "ml.m5.2xlarge",
    "vcpuNum": 8
   },
   {
    "_defaultOrder": 7,
    "_isFastLaunch": false,
    "category": "General purpose",
    "gpuNum": 0,
    "hideHardwareSpecs": false,
    "memoryGiB": 64,
    "name": "ml.m5.4xlarge",
    "vcpuNum": 16
   },
   {
    "_defaultOrder": 8,
    "_isFastLaunch": false,
    "category": "General purpose",
    "gpuNum": 0,
    "hideHardwareSpecs": false,
    "memoryGiB": 128,
    "name": "ml.m5.8xlarge",
    "vcpuNum": 32
   },
   {
    "_defaultOrder": 9,
    "_isFastLaunch": false,
    "category": "General purpose",
    "gpuNum": 0,
    "hideHardwareSpecs": false,
    "memoryGiB": 192,
    "name": "ml.m5.12xlarge",
    "vcpuNum": 48
   },
   {
    "_defaultOrder": 10,
    "_isFastLaunch": false,
    "category": "General purpose",
    "gpuNum": 0,
    "hideHardwareSpecs": false,
    "memoryGiB": 256,
    "name": "ml.m5.16xlarge",
    "vcpuNum": 64
   },
   {
    "_defaultOrder": 11,
    "_isFastLaunch": false,
    "category": "General purpose",
    "gpuNum": 0,
    "hideHardwareSpecs": false,
    "memoryGiB": 384,
    "name": "ml.m5.24xlarge",
    "vcpuNum": 96
   },
   {
    "_defaultOrder": 12,
    "_isFastLaunch": false,
    "category": "General purpose",
    "gpuNum": 0,
    "hideHardwareSpecs": false,
    "memoryGiB": 8,
    "name": "ml.m5d.large",
    "vcpuNum": 2
   },
   {
    "_defaultOrder": 13,
    "_isFastLaunch": false,
    "category": "General purpose",
    "gpuNum": 0,
    "hideHardwareSpecs": false,
    "memoryGiB": 16,
    "name": "ml.m5d.xlarge",
    "vcpuNum": 4
   },
   {
    "_defaultOrder": 14,
    "_isFastLaunch": false,
    "category": "General purpose",
    "gpuNum": 0,
    "hideHardwareSpecs": false,
    "memoryGiB": 32,
    "name": "ml.m5d.2xlarge",
    "vcpuNum": 8
   },
   {
    "_defaultOrder": 15,
    "_isFastLaunch": false,
    "category": "General purpose",
    "gpuNum": 0,
    "hideHardwareSpecs": false,
    "memoryGiB": 64,
    "name": "ml.m5d.4xlarge",
    "vcpuNum": 16
   },
   {
    "_defaultOrder": 16,
    "_isFastLaunch": false,
    "category": "General purpose",
    "gpuNum": 0,
    "hideHardwareSpecs": false,
    "memoryGiB": 128,
    "name": "ml.m5d.8xlarge",
    "vcpuNum": 32
   },
   {
    "_defaultOrder": 17,
    "_isFastLaunch": false,
    "category": "General purpose",
    "gpuNum": 0,
    "hideHardwareSpecs": false,
    "memoryGiB": 192,
    "name": "ml.m5d.12xlarge",
    "vcpuNum": 48
   },
   {
    "_defaultOrder": 18,
    "_isFastLaunch": false,
    "category": "General purpose",
    "gpuNum": 0,
    "hideHardwareSpecs": false,
    "memoryGiB": 256,
    "name": "ml.m5d.16xlarge",
    "vcpuNum": 64
   },
   {
    "_defaultOrder": 19,
    "_isFastLaunch": false,
    "category": "General purpose",
    "gpuNum": 0,
    "hideHardwareSpecs": false,
    "memoryGiB": 384,
    "name": "ml.m5d.24xlarge",
    "vcpuNum": 96
   },
   {
    "_defaultOrder": 20,
    "_isFastLaunch": false,
    "category": "General purpose",
    "gpuNum": 0,
    "hideHardwareSpecs": true,
    "memoryGiB": 0,
    "name": "ml.geospatial.interactive",
    "supportedImageNames": [
     "sagemaker-geospatial-v1-0"
    ],
    "vcpuNum": 0
   },
   {
    "_defaultOrder": 21,
    "_isFastLaunch": true,
    "category": "Compute optimized",
    "gpuNum": 0,
    "hideHardwareSpecs": false,
    "memoryGiB": 4,
    "name": "ml.c5.large",
    "vcpuNum": 2
   },
   {
    "_defaultOrder": 22,
    "_isFastLaunch": false,
    "category": "Compute optimized",
    "gpuNum": 0,
    "hideHardwareSpecs": false,
    "memoryGiB": 8,
    "name": "ml.c5.xlarge",
    "vcpuNum": 4
   },
   {
    "_defaultOrder": 23,
    "_isFastLaunch": false,
    "category": "Compute optimized",
    "gpuNum": 0,
    "hideHardwareSpecs": false,
    "memoryGiB": 16,
    "name": "ml.c5.2xlarge",
    "vcpuNum": 8
   },
   {
    "_defaultOrder": 24,
    "_isFastLaunch": false,
    "category": "Compute optimized",
    "gpuNum": 0,
    "hideHardwareSpecs": false,
    "memoryGiB": 32,
    "name": "ml.c5.4xlarge",
    "vcpuNum": 16
   },
   {
    "_defaultOrder": 25,
    "_isFastLaunch": false,
    "category": "Compute optimized",
    "gpuNum": 0,
    "hideHardwareSpecs": false,
    "memoryGiB": 72,
    "name": "ml.c5.9xlarge",
    "vcpuNum": 36
   },
   {
    "_defaultOrder": 26,
    "_isFastLaunch": false,
    "category": "Compute optimized",
    "gpuNum": 0,
    "hideHardwareSpecs": false,
    "memoryGiB": 96,
    "name": "ml.c5.12xlarge",
    "vcpuNum": 48
   },
   {
    "_defaultOrder": 27,
    "_isFastLaunch": false,
    "category": "Compute optimized",
    "gpuNum": 0,
    "hideHardwareSpecs": false,
    "memoryGiB": 144,
    "name": "ml.c5.18xlarge",
    "vcpuNum": 72
   },
   {
    "_defaultOrder": 28,
    "_isFastLaunch": false,
    "category": "Compute optimized",
    "gpuNum": 0,
    "hideHardwareSpecs": false,
    "memoryGiB": 192,
    "name": "ml.c5.24xlarge",
    "vcpuNum": 96
   },
   {
    "_defaultOrder": 29,
    "_isFastLaunch": true,
    "category": "Accelerated computing",
    "gpuNum": 1,
    "hideHardwareSpecs": false,
    "memoryGiB": 16,
    "name": "ml.g4dn.xlarge",
    "vcpuNum": 4
   },
   {
    "_defaultOrder": 30,
    "_isFastLaunch": false,
    "category": "Accelerated computing",
    "gpuNum": 1,
    "hideHardwareSpecs": false,
    "memoryGiB": 32,
    "name": "ml.g4dn.2xlarge",
    "vcpuNum": 8
   },
   {
    "_defaultOrder": 31,
    "_isFastLaunch": false,
    "category": "Accelerated computing",
    "gpuNum": 1,
    "hideHardwareSpecs": false,
    "memoryGiB": 64,
    "name": "ml.g4dn.4xlarge",
    "vcpuNum": 16
   },
   {
    "_defaultOrder": 32,
    "_isFastLaunch": false,
    "category": "Accelerated computing",
    "gpuNum": 1,
    "hideHardwareSpecs": false,
    "memoryGiB": 128,
    "name": "ml.g4dn.8xlarge",
    "vcpuNum": 32
   },
   {
    "_defaultOrder": 33,
    "_isFastLaunch": false,
    "category": "Accelerated computing",
    "gpuNum": 4,
    "hideHardwareSpecs": false,
    "memoryGiB": 192,
    "name": "ml.g4dn.12xlarge",
    "vcpuNum": 48
   },
   {
    "_defaultOrder": 34,
    "_isFastLaunch": false,
    "category": "Accelerated computing",
    "gpuNum": 1,
    "hideHardwareSpecs": false,
    "memoryGiB": 256,
    "name": "ml.g4dn.16xlarge",
    "vcpuNum": 64
   },
   {
    "_defaultOrder": 35,
    "_isFastLaunch": false,
    "category": "Accelerated computing",
    "gpuNum": 1,
    "hideHardwareSpecs": false,
    "memoryGiB": 61,
    "name": "ml.p3.2xlarge",
    "vcpuNum": 8
   },
   {
    "_defaultOrder": 36,
    "_isFastLaunch": false,
    "category": "Accelerated computing",
    "gpuNum": 4,
    "hideHardwareSpecs": false,
    "memoryGiB": 244,
    "name": "ml.p3.8xlarge",
    "vcpuNum": 32
   },
   {
    "_defaultOrder": 37,
    "_isFastLaunch": false,
    "category": "Accelerated computing",
    "gpuNum": 8,
    "hideHardwareSpecs": false,
    "memoryGiB": 488,
    "name": "ml.p3.16xlarge",
    "vcpuNum": 64
   },
   {
    "_defaultOrder": 38,
    "_isFastLaunch": false,
    "category": "Accelerated computing",
    "gpuNum": 8,
    "hideHardwareSpecs": false,
    "memoryGiB": 768,
    "name": "ml.p3dn.24xlarge",
    "vcpuNum": 96
   },
   {
    "_defaultOrder": 39,
    "_isFastLaunch": false,
    "category": "Memory Optimized",
    "gpuNum": 0,
    "hideHardwareSpecs": false,
    "memoryGiB": 16,
    "name": "ml.r5.large",
    "vcpuNum": 2
   },
   {
    "_defaultOrder": 40,
    "_isFastLaunch": false,
    "category": "Memory Optimized",
    "gpuNum": 0,
    "hideHardwareSpecs": false,
    "memoryGiB": 32,
    "name": "ml.r5.xlarge",
    "vcpuNum": 4
   },
   {
    "_defaultOrder": 41,
    "_isFastLaunch": false,
    "category": "Memory Optimized",
    "gpuNum": 0,
    "hideHardwareSpecs": false,
    "memoryGiB": 64,
    "name": "ml.r5.2xlarge",
    "vcpuNum": 8
   },
   {
    "_defaultOrder": 42,
    "_isFastLaunch": false,
    "category": "Memory Optimized",
    "gpuNum": 0,
    "hideHardwareSpecs": false,
    "memoryGiB": 128,
    "name": "ml.r5.4xlarge",
    "vcpuNum": 16
   },
   {
    "_defaultOrder": 43,
    "_isFastLaunch": false,
    "category": "Memory Optimized",
    "gpuNum": 0,
    "hideHardwareSpecs": false,
    "memoryGiB": 256,
    "name": "ml.r5.8xlarge",
    "vcpuNum": 32
   },
   {
    "_defaultOrder": 44,
    "_isFastLaunch": false,
    "category": "Memory Optimized",
    "gpuNum": 0,
    "hideHardwareSpecs": false,
    "memoryGiB": 384,
    "name": "ml.r5.12xlarge",
    "vcpuNum": 48
   },
   {
    "_defaultOrder": 45,
    "_isFastLaunch": false,
    "category": "Memory Optimized",
    "gpuNum": 0,
    "hideHardwareSpecs": false,
    "memoryGiB": 512,
    "name": "ml.r5.16xlarge",
    "vcpuNum": 64
   },
   {
    "_defaultOrder": 46,
    "_isFastLaunch": false,
    "category": "Memory Optimized",
    "gpuNum": 0,
    "hideHardwareSpecs": false,
    "memoryGiB": 768,
    "name": "ml.r5.24xlarge",
    "vcpuNum": 96
   },
   {
    "_defaultOrder": 47,
    "_isFastLaunch": false,
    "category": "Accelerated computing",
    "gpuNum": 1,
    "hideHardwareSpecs": false,
    "memoryGiB": 16,
    "name": "ml.g5.xlarge",
    "vcpuNum": 4
   },
   {
    "_defaultOrder": 48,
    "_isFastLaunch": false,
    "category": "Accelerated computing",
    "gpuNum": 1,
    "hideHardwareSpecs": false,
    "memoryGiB": 32,
    "name": "ml.g5.2xlarge",
    "vcpuNum": 8
   },
   {
    "_defaultOrder": 49,
    "_isFastLaunch": false,
    "category": "Accelerated computing",
    "gpuNum": 1,
    "hideHardwareSpecs": false,
    "memoryGiB": 64,
    "name": "ml.g5.4xlarge",
    "vcpuNum": 16
   },
   {
    "_defaultOrder": 50,
    "_isFastLaunch": false,
    "category": "Accelerated computing",
    "gpuNum": 1,
    "hideHardwareSpecs": false,
    "memoryGiB": 128,
    "name": "ml.g5.8xlarge",
    "vcpuNum": 32
   },
   {
    "_defaultOrder": 51,
    "_isFastLaunch": false,
    "category": "Accelerated computing",
    "gpuNum": 1,
    "hideHardwareSpecs": false,
    "memoryGiB": 256,
    "name": "ml.g5.16xlarge",
    "vcpuNum": 64
   },
   {
    "_defaultOrder": 52,
    "_isFastLaunch": false,
    "category": "Accelerated computing",
    "gpuNum": 4,
    "hideHardwareSpecs": false,
    "memoryGiB": 192,
    "name": "ml.g5.12xlarge",
    "vcpuNum": 48
   },
   {
    "_defaultOrder": 53,
    "_isFastLaunch": false,
    "category": "Accelerated computing",
    "gpuNum": 4,
    "hideHardwareSpecs": false,
    "memoryGiB": 384,
    "name": "ml.g5.24xlarge",
    "vcpuNum": 96
   },
   {
    "_defaultOrder": 54,
    "_isFastLaunch": false,
    "category": "Accelerated computing",
    "gpuNum": 8,
    "hideHardwareSpecs": false,
    "memoryGiB": 768,
    "name": "ml.g5.48xlarge",
    "vcpuNum": 192
   },
   {
    "_defaultOrder": 55,
    "_isFastLaunch": false,
    "category": "Accelerated computing",
    "gpuNum": 8,
    "hideHardwareSpecs": false,
    "memoryGiB": 1152,
    "name": "ml.p4d.24xlarge",
    "vcpuNum": 96
   },
   {
    "_defaultOrder": 56,
    "_isFastLaunch": false,
    "category": "Accelerated computing",
    "gpuNum": 8,
    "hideHardwareSpecs": false,
    "memoryGiB": 1152,
    "name": "ml.p4de.24xlarge",
    "vcpuNum": 96
   },
   {
    "_defaultOrder": 57,
    "_isFastLaunch": false,
    "category": "Accelerated computing",
    "gpuNum": 0,
    "hideHardwareSpecs": false,
    "memoryGiB": 32,
    "name": "ml.trn1.2xlarge",
    "vcpuNum": 8
   },
   {
    "_defaultOrder": 58,
    "_isFastLaunch": false,
    "category": "Accelerated computing",
    "gpuNum": 0,
    "hideHardwareSpecs": false,
    "memoryGiB": 512,
    "name": "ml.trn1.32xlarge",
    "vcpuNum": 128
   },
   {
    "_defaultOrder": 59,
    "_isFastLaunch": false,
    "category": "Accelerated computing",
    "gpuNum": 0,
    "hideHardwareSpecs": false,
    "memoryGiB": 512,
    "name": "ml.trn1n.32xlarge",
    "vcpuNum": 128
   }
  ],
  "instance_type": "ml.t3.medium",
  "kernelspec": {
   "display_name": "Python 3 (Data Science 3.0)",
   "language": "python",
   "name": "python3__SAGEMAKER_INTERNAL__arn:aws:sagemaker:us-east-1:081325390199:image/sagemaker-data-science-310-v1"
  },
  "language_info": {
   "codemirror_mode": {
    "name": "ipython",
    "version": 3
   },
   "file_extension": ".py",
   "mimetype": "text/x-python",
   "name": "python",
   "nbconvert_exporter": "python",
   "pygments_lexer": "ipython3",
   "version": "3.10.6"
  },
  "lcc_arn": "arn:aws:sagemaker:us-east-1:658029854503:studio-lifecycle-config/modlifeconfig"
 },
 "nbformat": 4,
 "nbformat_minor": 5
}
