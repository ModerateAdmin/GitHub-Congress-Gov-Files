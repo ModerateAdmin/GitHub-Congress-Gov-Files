{
 "cells": [
  {
   "cell_type": "markdown",
   "id": "ab092d63-2007-445a-9ad7-13239a666f8c",
   "metadata": {},
   "source": [
    "## Update Legislation and Politicians Based on JSON File- Not For Notebook Jobs"
   ]
  },
  {
   "cell_type": "markdown",
   "id": "f176054a-49cd-4329-8cdf-975d45951598",
   "metadata": {},
   "source": [
    "##### Read all the Politicians stored in DynamoDB"
   ]
  },
  {
   "cell_type": "code",
   "execution_count": 2,
   "id": "3b8ccccb-2bef-444e-8a69-041423642e32",
   "metadata": {
    "tags": []
   },
   "outputs": [],
   "source": [
    "import boto3\n",
    "from boto3.dynamodb.conditions import Key, Attr\n",
    "from botocore.exceptions import ClientError\n",
    "import json\n",
    "import pandas as pd"
   ]
  },
  {
   "cell_type": "code",
   "execution_count": 3,
   "id": "80da85ec-4fed-4e56-84a1-f8d2f17ea3e9",
   "metadata": {
    "tags": []
   },
   "outputs": [],
   "source": [
    "def query_Politicians_DB(dynamodb = None):\n",
    "    if not dynamodb:\n",
    "        dynamodb = boto3.resource('dynamodb', endpoint_url=\"https://dynamodb.us-east-1.amazonaws.com\")\n",
    "    table = dynamodb.Table('PoliticiansDB-iupecu7kgngs3cdnckvjmtrgmm-dev')\n",
    "    response = table.scan()\n",
    "    items = response['Items']\n",
    "    while 'LastEvaluatedKey' in response:\n",
    "        response = table.scan(ExclusiveStartKey=response['LastEvaluatedKey'])\n",
    "        items.extend(response['Items'])\n",
    "    return items\n",
    "Current_DB_Politicians = query_Politicians_DB()"
   ]
  },
  {
   "cell_type": "markdown",
   "id": "ed39aac2-8c77-4156-9910-5b43f6b04432",
   "metadata": {},
   "source": [
    "This is the Class for storing information"
   ]
  },
  {
   "cell_type": "code",
   "execution_count": 4,
   "id": "83e2919b-45a1-4f18-b269-1148d32b1389",
   "metadata": {
    "tags": []
   },
   "outputs": [],
   "source": [
    "class CongressionalBillInfo:\n",
    "    def __init__ (self, ID, Title, Summary, IntroducedDate, UpdatedDate, PDF_URL, Party, PolicyArea, Category, Session, Chamber,OriginChamber, Days, Aye, Nay, Not_Voting, Present, DemocratAyeCount, RepublicanAyeCount, RepublicanNayCount, DemocratNayCount, DemocratNotVotingCount, RepublicanNotVotingCount, Result):\n",
    "        self.ID = ID\n",
    "        self.Title = Title\n",
    "        self.Summary = Summary\n",
    "        self.IntroducedDate = IntroducedDate\n",
    "        self.UpdatedDate = UpdatedDate\n",
    "        self.PDF_URL = PDF_URL\n",
    "        self.Party = Party\n",
    "        self.PolicyArea = PolicyArea\n",
    "        self.Category = Category\n",
    "        self.Chamber = Chamber\n",
    "        self.OriginChamber = OriginChamber\n",
    "        self.Session = Session\n",
    "        self.Days = Days\n",
    "        self.Aye = Aye\n",
    "        self.Nay = Nay\n",
    "        self.Not_Voting = Not_Voting\n",
    "        self.Present = Present\n",
    "        self.DemocratAyeCount = DemocratAyeCount\n",
    "        self.RepublicanAyeCount = RepublicanAyeCount\n",
    "        self.DemocratNayCount = DemocratNayCount\n",
    "        self.RepublicanNayCount = RepublicanNayCount\n",
    "        self.DemocratNotVotingCount = DemocratNotVotingCount\n",
    "        self.RepublicanNotVotingCount = RepublicanNotVotingCount\n",
    "        self.Result = Result"
   ]
  },
  {
   "cell_type": "markdown",
   "id": "835a219c-aca3-4bce-9e1e-5121cad22ceb",
   "metadata": {},
   "source": [
    "Create lists of republican, democrat, and independents by alternateids. This will be used when going through legislation to categorize each vote properly."
   ]
  },
  {
   "cell_type": "code",
   "execution_count": 5,
   "id": "bb3c7249-5fea-4dea-afd5-95f3eab42f13",
   "metadata": {
    "tags": []
   },
   "outputs": [],
   "source": [
    "republican_alt_id_list = []\n",
    "democrat_alt_id_list = []\n",
    "independent_alt_id_list = []\n",
    "\n",
    "for politician in Current_DB_Politicians:\n",
    "    \n",
    "    if politician['Party'] == \"Republican\":\n",
    "        republican_alt_id_list.append(politician['alternateID'])\n",
    "    elif politician['Party'] == \"Democratic\":\n",
    "        democrat_alt_id_list.append(politician['alternateID'])\n",
    "    elif politician['Party'] == \"Independent\":\n",
    "        independent_alt_id_list.append(politician['alternateID'])"
   ]
  },
  {
   "cell_type": "code",
   "execution_count": 6,
   "id": "14b2ebde-c7c4-4b68-a0f7-e402e070a2b1",
   "metadata": {
    "tags": []
   },
   "outputs": [],
   "source": [
    "import json\n",
    "\n",
    "# Open the JSON file for reading\n",
    "with open('Legislation-118-2023.json', 'r') as file:\n",
    "    # Load the JSON data into a dictionary\n",
    "    LegislationJSONList = json.load(file)"
   ]
  },
  {
   "cell_type": "code",
   "execution_count": 7,
   "id": "b8b1dd4a-5818-4f16-abc4-f4c251536ef2",
   "metadata": {
    "tags": []
   },
   "outputs": [
    {
     "data": {
      "text/plain": [
       "dict_keys(['ID', 'Title', 'Summary', 'IntroducedDate', 'UpdatedDate', 'PDF_URL', 'Party', 'PolicyArea', 'Category', 'Chamber', 'OriginChamber', 'Session', 'Days', 'Aye', 'Nay', 'Not_Voting', 'Present', 'DemocratAyeCount', 'RepublicanAyeCount', 'DemocratNayCount', 'RepublicanNayCount', 'DemocratNotVotingCount', 'RepublicanNotVotingCount', 'Result'])"
      ]
     },
     "execution_count": 7,
     "metadata": {},
     "output_type": "execute_result"
    }
   ],
   "source": [
    "LegislationJSONList[0].keys()"
   ]
  },
  {
   "cell_type": "code",
   "execution_count": 8,
   "id": "df2a3461-24f6-4dcb-bb66-e55d467e9350",
   "metadata": {
    "tags": []
   },
   "outputs": [],
   "source": [
    "BillOBJList = []\n",
    "for Bill in LegislationJSONList:\n",
    "    CongressionalBillInfoOBJ = CongressionalBillInfo(ID = Bill['ID'], \n",
    "                                                     Category = Bill['Category'], \n",
    "                                                     Session = Bill['Session'], \n",
    "                                                     OriginChamber = Bill['OriginChamber'], \n",
    "                                                     Result= Bill['Result'], \n",
    "                                                     Title = Bill['Title'], \n",
    "                                                     Summary = Bill['Summary'], \n",
    "                                                     PolicyArea = Bill['PolicyArea'], \n",
    "                                                     IntroducedDate = Bill['IntroducedDate'], \n",
    "                                                     UpdatedDate = Bill['UpdatedDate'], \n",
    "                                                     PDF_URL = Bill['PDF_URL'], \n",
    "                                                     Party = Bill['Party'], \n",
    "                                                     Chamber = Bill['Chamber'], \n",
    "                                                     Days = Bill['Days'], \n",
    "                                                     Aye = Bill['Aye'], \n",
    "                                                     Nay = Bill['Nay'], \n",
    "                                                     Not_Voting = Bill['Not_Voting'], \n",
    "                                                     Present = Bill['Present'],\n",
    "                                                     DemocratAyeCount = Bill['DemocratAyeCount'], \n",
    "                                                     RepublicanAyeCount = Bill['RepublicanAyeCount'], \n",
    "                                                     RepublicanNayCount = Bill['RepublicanNayCount'],\n",
    "                                                     DemocratNayCount = Bill['DemocratNayCount'], \n",
    "                                                     DemocratNotVotingCount = Bill['DemocratNotVotingCount'], \n",
    "                                                     RepublicanNotVotingCount = Bill['RepublicanNotVotingCount'])\n",
    "    BillOBJList.append(CongressionalBillInfoOBJ)"
   ]
  },
  {
   "cell_type": "markdown",
   "id": "6b19f2a4-0882-40bb-b3fe-f22ecf2c6e64",
   "metadata": {},
   "source": [
    "Create a class that also contains independent voting counts along with the 'Name_Party_State\" dictionary lists where the key is the politician alternateID and then the rest is a list of the corresponding politician's name, state, and party they are associated with."
   ]
  },
  {
   "cell_type": "code",
   "execution_count": 9,
   "id": "ed550873-ac90-4e10-b31f-ec30eebdefaf",
   "metadata": {
    "tags": []
   },
   "outputs": [],
   "source": [
    "class CongressionalBillInfoWithExtendedVoteInfo:\n",
    "    def __init__ (self, ID, Title, Summary, IntroducedDate, UpdatedDate, PDF_URL, Party, PolicyArea, Category, Session, Chamber,OriginChamber, Days, Aye, Nay, Not_Voting, Aye_Name_Party_State, Nay_Name_Party_State, Not_Voting_Name_Party_State, Present, DemocratAyeCount, RepublicanAyeCount, IndependentAyeCount, RepublicanNayCount, DemocratNayCount, IndependentNayCount, DemocratNotVotingCount, RepublicanNotVotingCount, IndependentNotVotingCount, Result):\n",
    "        self.ID = ID\n",
    "        self.Title = Title\n",
    "        self.Summary = Summary\n",
    "        self.IntroducedDate = IntroducedDate\n",
    "        self.UpdatedDate = UpdatedDate\n",
    "        self.PDF_URL = PDF_URL\n",
    "        self.Party = Party\n",
    "        self.PolicyArea = PolicyArea\n",
    "        self.Category = Category\n",
    "        self.Chamber = Chamber\n",
    "        self.OriginChamber = OriginChamber\n",
    "        self.Session = Session\n",
    "        self.Days = Days\n",
    "        self.Aye = Aye\n",
    "        self.Nay = Nay\n",
    "        self.Not_Voting = Not_Voting\n",
    "        self.Aye_Name_Party_State = Aye_Name_Party_State\n",
    "        self.Nay_Name_Party_State = Nay_Name_Party_State\n",
    "        self.Not_Voting_Name_Party_State = Not_Voting_Name_Party_State\n",
    "        self.Present = Present\n",
    "        self.DemocratAyeCount = DemocratAyeCount\n",
    "        self.RepublicanAyeCount = RepublicanAyeCount\n",
    "        self.IndependentAyeCount = IndependentAyeCount\n",
    "        self.DemocratNayCount = DemocratNayCount\n",
    "        self.RepublicanNayCount = RepublicanNayCount\n",
    "        self.IndependentNayCount = IndependentAyeCount\n",
    "        self.DemocratNotVotingCount = DemocratNotVotingCount\n",
    "        self.RepublicanNotVotingCount = RepublicanNotVotingCount\n",
    "        self.IndependentNotVotingCount = IndependentNotVotingCount\n",
    "        self.Result = Result"
   ]
  },
  {
   "cell_type": "code",
   "execution_count": 10,
   "id": "604ed08b-d357-420b-ba65-33d043cea4f9",
   "metadata": {
    "tags": []
   },
   "outputs": [],
   "source": [
    "index_counter = 0\n",
    "Full_Bill_OBJ_List = []\n",
    "\n",
    "for obj in BillOBJList:\n",
    "    \n",
    "    Aye_Name_Party_State_Dictionary = {}\n",
    "    Nay_Name_Party_State_Dictionary = {}\n",
    "    Not_Voting_Name_Party_State_Dictionary = {}\n",
    "    \n",
    "    for pol_id in obj.Aye:\n",
    "        for full_pol_info_from_DB in Current_DB_Politicians:\n",
    "            if (pol_id == full_pol_info_from_DB['id']) or (pol_id == full_pol_info_from_DB['alternateID']):\n",
    "                Aye_Name_Party_State_Dictionary[full_pol_info_from_DB['alternateID']] = [full_pol_info_from_DB['Name'],full_pol_info_from_DB['Party'],full_pol_info_from_DB['State']]\n",
    "                break\n",
    "        \n",
    "    for pol_id in obj.Nay:\n",
    "        for full_pol_info_from_DB in Current_DB_Politicians:\n",
    "            if (pol_id == full_pol_info_from_DB['id']) or (pol_id == full_pol_info_from_DB['alternateID']):\n",
    "                Nay_Name_Party_State_Dictionary[full_pol_info_from_DB['alternateID']] = [full_pol_info_from_DB['Name'],full_pol_info_from_DB['Party'],full_pol_info_from_DB['State']]\n",
    "                break\n",
    "    \n",
    "    for pol_id in obj.Not_Voting:\n",
    "        for full_pol_info_from_DB in Current_DB_Politicians:\n",
    "            if (pol_id == full_pol_info_from_DB['id']) or (pol_id == full_pol_info_from_DB['alternateID']):\n",
    "                Not_Voting_Name_Party_State_Dictionary[full_pol_info_from_DB['alternateID']] = [full_pol_info_from_DB['Name'],full_pol_info_from_DB['Party'],full_pol_info_from_DB['State']]\n",
    "                break\n",
    "                \n",
    "\n",
    "    DemocratAyeCount = 0\n",
    "    RepublicanAyeCount = 0\n",
    "    IndependentAyeCount = 0\n",
    "\n",
    "    DemocratNayCount = 0\n",
    "    RepublicanNayCount = 0\n",
    "    IndependentNayCount = 0\n",
    "\n",
    "    DemocratNotVotingCount = 0\n",
    "    RepublicanNotVotingCount = 0\n",
    "    IndependentNotVotingCount = 0\n",
    "\n",
    "    for politician_id in obj.Aye:\n",
    "\n",
    "        if politician_id in republican_alt_id_list:\n",
    "            RepublicanAyeCount+=1\n",
    "        elif politician_id in democrat_alt_id_list:\n",
    "            DemocratAyeCount+=1\n",
    "        elif politician_id in independent_alt_id_list:\n",
    "            IndependentAyeCount+=1\n",
    "    \n",
    "    BillOBJList[index_counter].RepublicanAyeCount = RepublicanAyeCount\n",
    "    BillOBJList[index_counter].DemocratAyeCount = DemocratAyeCount\n",
    "    BillOBJList[index_counter].IndependentAyeCount = IndependentAyeCount\n",
    "\n",
    "    for politician_id in obj.Nay:\n",
    "\n",
    "        if politician_id in republican_alt_id_list:\n",
    "            RepublicanNayCount+=1\n",
    "        elif politician_id in democrat_alt_id_list:\n",
    "            DemocratNayCount+=1\n",
    "        elif politician_id in independent_alt_id_list:\n",
    "            IndependentNayCount+=1\n",
    "    \n",
    "    BillOBJList[index_counter].RepublicanNayCount = RepublicanNayCount\n",
    "    BillOBJList[index_counter].DemocratNayCount = DemocratNayCount\n",
    "    BillOBJList[index_counter].IndependentNayCount = IndependentNayCount\n",
    "\n",
    "    for politician_id in obj.Not_Voting:\n",
    "\n",
    "        if politician_id in republican_alt_id_list:\n",
    "            RepublicanNotVotingCount+=1\n",
    "        elif politician_id in democrat_alt_id_list:\n",
    "            DemocratNotVotingCount+=1\n",
    "        elif politician_id in independent_alt_id_list:\n",
    "            IndependentNotVotingCount+=1        \n",
    "\n",
    "    BillOBJList[index_counter].RepublicanNotVotingCount = RepublicanNotVotingCount\n",
    "    BillOBJList[index_counter].DemocratNotVotingCount = DemocratNotVotingCount\n",
    "    BillOBJList[index_counter].IndependentNotVotingCount = IndependentNotVotingCount\n",
    "    \n",
    "    # print(LegislationJSONList[index_counter]['RepublicanAyeCount'])\n",
    "    \n",
    "    index_counter+=1\n",
    "    \n",
    "    CongressionalBillInfoWithExtendedVoteInfoOBJ = CongressionalBillInfoWithExtendedVoteInfo(ID = obj.ID, \n",
    "                                                                                             Category = obj.Category, \n",
    "                                                                                             Session = obj.Session, \n",
    "                                                                                             OriginChamber = obj.OriginChamber, \n",
    "                                                                                             Result= obj.Result, \n",
    "                                                                                             Title = obj.Title, \n",
    "                                                                                             Summary = obj.Summary, \n",
    "                                                                                             PolicyArea = obj.PolicyArea, \n",
    "                                                                                             IntroducedDate = obj.IntroducedDate, \n",
    "                                                                                             UpdatedDate = obj.UpdatedDate, \n",
    "                                                                                             PDF_URL = obj.PDF_URL, \n",
    "                                                                                             Party = obj.Party, \n",
    "                                                                                             Chamber = obj.Chamber, \n",
    "                                                                                             Days = obj.Days, \n",
    "                                                                                             Aye = obj.Aye,\n",
    "                                                                                             Nay = obj.Nay,\n",
    "                                                                                             Not_Voting = obj.Not_Voting, \n",
    "                                                                                             Aye_Name_Party_State = Aye_Name_Party_State_Dictionary, \n",
    "                                                                                             Nay_Name_Party_State = Nay_Name_Party_State_Dictionary, \n",
    "                                                                                             Not_Voting_Name_Party_State = Not_Voting_Name_Party_State_Dictionary,\n",
    "                                                                                             Present = obj.Present,\n",
    "                                                                                             DemocratAyeCount = DemocratAyeCount, \n",
    "                                                                                             RepublicanAyeCount = RepublicanAyeCount, \n",
    "                                                                                             IndependentAyeCount = IndependentAyeCount,\n",
    "                                                                                             RepublicanNayCount = RepublicanNayCount, \n",
    "                                                                                             DemocratNayCount = DemocratNayCount,\n",
    "                                                                                             IndependentNayCount = IndependentNayCount,\n",
    "                                                                                             DemocratNotVotingCount = DemocratNotVotingCount,\n",
    "                                                                                             RepublicanNotVotingCount = RepublicanNotVotingCount,\n",
    "                                                                                             IndependentNotVotingCount = IndependentNotVotingCount)\n",
    "    Full_Bill_OBJ_List.append(CongressionalBillInfoWithExtendedVoteInfoOBJ)"
   ]
  },
  {
   "cell_type": "code",
   "execution_count": 11,
   "id": "adb3b7ca-48a4-48cf-93b2-29ee2c63be44",
   "metadata": {
    "tags": []
   },
   "outputs": [],
   "source": [
    "def write_to_CongressionalBillsDB(CongressionalBillInfoOBJ, dynamodb = None):\n",
    "    if not dynamodb:\n",
    "        dynamodb = boto3.resource('dynamodb', endpoint_url=\"https://dynamodb.us-east-1.amazonaws.com\")\n",
    "\n",
    "    table = dynamodb.Table('CongressionalBillsDB-iupecu7kgngs3cdnckvjmtrgmm-dev')\n",
    "    response = table.put_item(\n",
    "       Item={\n",
    "            'id': CongressionalBillInfoOBJ.ID,\n",
    "            'Title': CongressionalBillInfoOBJ.Title,\n",
    "            'Summary': CongressionalBillInfoOBJ.Summary,\n",
    "            'IntroducedDate': CongressionalBillInfoOBJ.IntroducedDate,\n",
    "            'UpdatedDate': CongressionalBillInfoOBJ.UpdatedDate,\n",
    "            'PDF_URL': CongressionalBillInfoOBJ.PDF_URL,\n",
    "            'Party': CongressionalBillInfoOBJ.Party,\n",
    "            'PolicyArea': CongressionalBillInfoOBJ.PolicyArea,\n",
    "            'Chamber': CongressionalBillInfoOBJ.Chamber,\n",
    "            'OriginChamber': CongressionalBillInfoOBJ.OriginChamber,\n",
    "            'Days': CongressionalBillInfoOBJ.Days,\n",
    "            'Aye' : CongressionalBillInfoOBJ.Aye,\n",
    "            'Nay' : CongressionalBillInfoOBJ.Nay,\n",
    "            'Not_Voting' : CongressionalBillInfoOBJ.Not_Voting,\n",
    "            'Aye_Name_Party_State': CongressionalBillInfoOBJ.Aye_Name_Party_State,\n",
    "            'Nay_Name_Party_State': CongressionalBillInfoOBJ.Nay_Name_Party_State,\n",
    "            'Not_Voting_Name_Party_State': CongressionalBillInfoOBJ.Not_Voting_Name_Party_State,\n",
    "            'Present' : CongressionalBillInfoOBJ.Present,\n",
    "            'DemocratAyeCount' : CongressionalBillInfoOBJ.DemocratAyeCount,\n",
    "            'RepublicanAyeCount' : CongressionalBillInfoOBJ.RepublicanAyeCount,\n",
    "            'IndependentAyeCount' : CongressionalBillInfoOBJ.IndependentAyeCount,\n",
    "            'RepublicanNayCount' : CongressionalBillInfoOBJ.RepublicanNayCount,\n",
    "            'DemocratNayCount' : CongressionalBillInfoOBJ.DemocratNayCount,\n",
    "            'IndependentNayCount' : CongressionalBillInfoOBJ.IndependentNayCount,\n",
    "            'DemocratNotVotingCount' : CongressionalBillInfoOBJ.DemocratNotVotingCount,\n",
    "            'RepublicanNotVotingCount' : CongressionalBillInfoOBJ.RepublicanNotVotingCount,\n",
    "            'IndependentNotVotingCount': CongressionalBillInfoOBJ.IndependentNotVotingCount,\n",
    "            'Result': CongressionalBillInfoOBJ.Result,\n",
    "            'Session': CongressionalBillInfoOBJ.Session,\n",
    "            'Category': CongressionalBillInfoOBJ.Category\n",
    "        }\n",
    "    )\n",
    "    return response"
   ]
  },
  {
   "cell_type": "code",
   "execution_count": 12,
   "id": "47cbd182-cfc5-43d0-9903-2412708c0eb7",
   "metadata": {
    "tags": []
   },
   "outputs": [],
   "source": [
    "for Bill in Full_Bill_OBJ_List:\n",
    "    write_to_CongressionalBillsDB(Bill)"
   ]
  },
  {
   "cell_type": "markdown",
   "id": "7efe90a2-052f-4e8a-a029-c15dae0d0d65",
   "metadata": {},
   "source": [
    "### Write all Politician Information including Votes to S3 based on CongressionalBillsDB"
   ]
  },
  {
   "cell_type": "code",
   "execution_count": 27,
   "id": "20414fc1-8851-4ad2-8730-8973a42ea625",
   "metadata": {
    "tags": []
   },
   "outputs": [],
   "source": [
    "import requests\n",
    "import re\n",
    "import ast\n",
    "import operator\n",
    "import regex\n",
    "import os, shutil\n",
    "import urllib.request\n",
    "from PIL import Image\n",
    "import pickle\n",
    "import time\n",
    "import sys\n",
    "import gzip\n",
    "import os"
   ]
  },
  {
   "cell_type": "code",
   "execution_count": 28,
   "id": "fdd46a16-66a7-4812-85e6-120ed6c3d8ae",
   "metadata": {
    "tags": []
   },
   "outputs": [],
   "source": [
    "import boto3\n",
    "from boto3.dynamodb.conditions import Key, Attr\n",
    "from botocore.exceptions import ClientError\n",
    "import json\n",
    "import pandas as pd"
   ]
  },
  {
   "cell_type": "markdown",
   "id": "750ec5ec-5c1f-46d1-9682-b191463fa1ba",
   "metadata": {},
   "source": [
    "#### Read all the legislation from the Congressional Bill DB"
   ]
  },
  {
   "cell_type": "code",
   "execution_count": 29,
   "id": "6208998d-926c-46ca-a52d-9cea488f91e9",
   "metadata": {
    "tags": []
   },
   "outputs": [],
   "source": [
    "def query_Congress_Leg_DB(dynamodb = None):\n",
    "    if not dynamodb:\n",
    "        dynamodb = boto3.resource('dynamodb', endpoint_url=\"https://dynamodb.us-east-1.amazonaws.com\")\n",
    "    table = dynamodb.Table('CongressionalBillsDB-iupecu7kgngs3cdnckvjmtrgmm-dev')\n",
    "    response = table.scan()\n",
    "    items = response['Items']\n",
    "    while 'LastEvaluatedKey' in response:\n",
    "        response = table.scan(ExclusiveStartKey=response['LastEvaluatedKey'])\n",
    "        items.extend(response['Items'])\n",
    "    return items\n",
    "\n",
    "Prior_Voted_Legistlation = query_Congress_Leg_DB()"
   ]
  },
  {
   "cell_type": "markdown",
   "id": "481da120-0fc9-4c1a-8ec2-8a3badf576c5",
   "metadata": {},
   "source": [
    "#### Read all the Politicians stored in DynamoDB"
   ]
  },
  {
   "cell_type": "code",
   "execution_count": 31,
   "id": "31fe5883-8ad2-4504-8f52-1173e8b8189a",
   "metadata": {
    "tags": []
   },
   "outputs": [],
   "source": [
    "def query_Politicians_DB(dynamodb = None):\n",
    "    if not dynamodb:\n",
    "        dynamodb = boto3.resource('dynamodb', endpoint_url=\"https://dynamodb.us-east-1.amazonaws.com\")\n",
    "    table = dynamodb.Table('PoliticiansDB-iupecu7kgngs3cdnckvjmtrgmm-dev')\n",
    "    response = table.scan()\n",
    "    items = response['Items']\n",
    "    while 'LastEvaluatedKey' in response:\n",
    "        response = table.scan(ExclusiveStartKey=response['LastEvaluatedKey'])\n",
    "        items.extend(response['Items'])\n",
    "    return items\n",
    "Current_DB_Politicians = query_Politicians_DB()"
   ]
  },
  {
   "cell_type": "markdown",
   "id": "88e7ecaa-8303-49d0-adcf-5c9d16d3aed5",
   "metadata": {},
   "source": [
    "#### Write all the politician information with the corresponding legislation information on each voted bill to a JSON file and then save to S3"
   ]
  },
  {
   "cell_type": "code",
   "execution_count": 38,
   "id": "4b914549-4396-46ea-a769-b5ba0df2186a",
   "metadata": {
    "tags": []
   },
   "outputs": [],
   "source": [
    "for politician in Current_DB_Politicians:\n",
    "    \n",
    "    pol_alt_id = politician['alternateID']\n",
    "    pol_aye_vote_dict = {}\n",
    "    pol_nay_vote_dict = {}\n",
    "    pol_no_vote_dict = {}\n",
    "\n",
    "    for legislation in Prior_Voted_Legistlation:\n",
    "        \n",
    "        for aye_legislation_pol in legislation['Aye_Name_Party_State'].keys():\n",
    "            if aye_legislation_pol == pol_alt_id:\n",
    "                pol_aye_vote_dict[legislation['id']] = legislation\n",
    "                break\n",
    "        \n",
    "        for nay_legislation_pol in legislation['Nay_Name_Party_State']:\n",
    "            if nay_legislation_pol == pol_alt_id:\n",
    "                pol_nay_vote_dict[legislation['id']] = legislation\n",
    "                break\n",
    "        \n",
    "        for not_voting_legislation_pol in legislation['Not_Voting_Name_Party_State']:\n",
    "            if not_voting_legislation_pol == pol_alt_id:\n",
    "                pol_no_vote_dict[legislation['id']] = legislation\n",
    "                break\n",
    "    politician['AyeVotedBills'] = pol_aye_vote_dict\n",
    "    politician['NayVotedBills'] = pol_nay_vote_dict\n",
    "    politician['NotVotedBills'] = pol_no_vote_dict\n",
    "    \n",
    "    # Specify the filename\n",
    "    filename = \"PoliticianJSONFolder/\" + politician['id'] + '.json'\n",
    "    # Convert Decimal to string during serialization\n",
    "\n",
    "    # Open the file in write mode ('w') and write the dictionary\n",
    "    with open(filename, 'w') as file:\n",
    "        json.dump(politician, file, default = str, indent=4)  # Use 'indent' for pretty printing\n",
    "\n",
    "    bucket_name = \"moderateapps3bucket01959-dev\"\n",
    "    file_name_in_s3 = \"public/\" + filename\n",
    "\n",
    "    # json_str = json.dumps(politician, default=str)\n",
    "    # print(type(json_str))\n",
    "    # json_data = json.loads(json_str)\n",
    "\n",
    "    s3 = boto3.client('s3')\n",
    "    with open(filename, \"rb\") as f:\n",
    "        bucket = \"moderateapps3bucket01959-dev\"\n",
    "        save_string = \"public/\" + filename\n",
    "        s3.upload_fileobj(f, bucket, save_string)"
   ]
  },
  {
   "cell_type": "markdown",
   "id": "89942fba-a5bd-46db-a992-30adff500e7f",
   "metadata": {},
   "source": [
    "#### Delete All the JSON files in the Folder"
   ]
  },
  {
   "cell_type": "code",
   "execution_count": null,
   "id": "e352d5fd-6f77-4c31-b7d1-d504faf0a984",
   "metadata": {},
   "outputs": [],
   "source": [
    "# Specify the directory you want to clear\n",
    "folder_path = 'PoliticianJSONFolder/'\n",
    "\n",
    "# Loop through all files in the directory\n",
    "for filename in os.listdir(folder_path):\n",
    "    file_path = os.path.join(folder_path, filename)\n",
    "    try:\n",
    "        # Check if it is a file and not a directory\n",
    "        if os.path.isfile(file_path) or os.path.islink(file_path):\n",
    "            os.unlink(file_path) # This will delete the file\n",
    "        # Uncomment below if you also want to remove subdirectories\n",
    "        # elif os.path.isdir(file_path):\n",
    "        #     shutil.rmtree(file_path) # Be careful with this, it deletes directories\n",
    "    except Exception as e:\n",
    "        print(f'Failed to delete {file_path}. Reason: {e}')\n"
   ]
  }
 ],
 "metadata": {
  "availableInstances": [
   {
    "_defaultOrder": 0,
    "_isFastLaunch": true,
    "category": "General purpose",
    "gpuNum": 0,
    "hideHardwareSpecs": false,
    "memoryGiB": 4,
    "name": "ml.t3.medium",
    "vcpuNum": 2
   },
   {
    "_defaultOrder": 1,
    "_isFastLaunch": false,
    "category": "General purpose",
    "gpuNum": 0,
    "hideHardwareSpecs": false,
    "memoryGiB": 8,
    "name": "ml.t3.large",
    "vcpuNum": 2
   },
   {
    "_defaultOrder": 2,
    "_isFastLaunch": false,
    "category": "General purpose",
    "gpuNum": 0,
    "hideHardwareSpecs": false,
    "memoryGiB": 16,
    "name": "ml.t3.xlarge",
    "vcpuNum": 4
   },
   {
    "_defaultOrder": 3,
    "_isFastLaunch": false,
    "category": "General purpose",
    "gpuNum": 0,
    "hideHardwareSpecs": false,
    "memoryGiB": 32,
    "name": "ml.t3.2xlarge",
    "vcpuNum": 8
   },
   {
    "_defaultOrder": 4,
    "_isFastLaunch": true,
    "category": "General purpose",
    "gpuNum": 0,
    "hideHardwareSpecs": false,
    "memoryGiB": 8,
    "name": "ml.m5.large",
    "vcpuNum": 2
   },
   {
    "_defaultOrder": 5,
    "_isFastLaunch": false,
    "category": "General purpose",
    "gpuNum": 0,
    "hideHardwareSpecs": false,
    "memoryGiB": 16,
    "name": "ml.m5.xlarge",
    "vcpuNum": 4
   },
   {
    "_defaultOrder": 6,
    "_isFastLaunch": false,
    "category": "General purpose",
    "gpuNum": 0,
    "hideHardwareSpecs": false,
    "memoryGiB": 32,
    "name": "ml.m5.2xlarge",
    "vcpuNum": 8
   },
   {
    "_defaultOrder": 7,
    "_isFastLaunch": false,
    "category": "General purpose",
    "gpuNum": 0,
    "hideHardwareSpecs": false,
    "memoryGiB": 64,
    "name": "ml.m5.4xlarge",
    "vcpuNum": 16
   },
   {
    "_defaultOrder": 8,
    "_isFastLaunch": false,
    "category": "General purpose",
    "gpuNum": 0,
    "hideHardwareSpecs": false,
    "memoryGiB": 128,
    "name": "ml.m5.8xlarge",
    "vcpuNum": 32
   },
   {
    "_defaultOrder": 9,
    "_isFastLaunch": false,
    "category": "General purpose",
    "gpuNum": 0,
    "hideHardwareSpecs": false,
    "memoryGiB": 192,
    "name": "ml.m5.12xlarge",
    "vcpuNum": 48
   },
   {
    "_defaultOrder": 10,
    "_isFastLaunch": false,
    "category": "General purpose",
    "gpuNum": 0,
    "hideHardwareSpecs": false,
    "memoryGiB": 256,
    "name": "ml.m5.16xlarge",
    "vcpuNum": 64
   },
   {
    "_defaultOrder": 11,
    "_isFastLaunch": false,
    "category": "General purpose",
    "gpuNum": 0,
    "hideHardwareSpecs": false,
    "memoryGiB": 384,
    "name": "ml.m5.24xlarge",
    "vcpuNum": 96
   },
   {
    "_defaultOrder": 12,
    "_isFastLaunch": false,
    "category": "General purpose",
    "gpuNum": 0,
    "hideHardwareSpecs": false,
    "memoryGiB": 8,
    "name": "ml.m5d.large",
    "vcpuNum": 2
   },
   {
    "_defaultOrder": 13,
    "_isFastLaunch": false,
    "category": "General purpose",
    "gpuNum": 0,
    "hideHardwareSpecs": false,
    "memoryGiB": 16,
    "name": "ml.m5d.xlarge",
    "vcpuNum": 4
   },
   {
    "_defaultOrder": 14,
    "_isFastLaunch": false,
    "category": "General purpose",
    "gpuNum": 0,
    "hideHardwareSpecs": false,
    "memoryGiB": 32,
    "name": "ml.m5d.2xlarge",
    "vcpuNum": 8
   },
   {
    "_defaultOrder": 15,
    "_isFastLaunch": false,
    "category": "General purpose",
    "gpuNum": 0,
    "hideHardwareSpecs": false,
    "memoryGiB": 64,
    "name": "ml.m5d.4xlarge",
    "vcpuNum": 16
   },
   {
    "_defaultOrder": 16,
    "_isFastLaunch": false,
    "category": "General purpose",
    "gpuNum": 0,
    "hideHardwareSpecs": false,
    "memoryGiB": 128,
    "name": "ml.m5d.8xlarge",
    "vcpuNum": 32
   },
   {
    "_defaultOrder": 17,
    "_isFastLaunch": false,
    "category": "General purpose",
    "gpuNum": 0,
    "hideHardwareSpecs": false,
    "memoryGiB": 192,
    "name": "ml.m5d.12xlarge",
    "vcpuNum": 48
   },
   {
    "_defaultOrder": 18,
    "_isFastLaunch": false,
    "category": "General purpose",
    "gpuNum": 0,
    "hideHardwareSpecs": false,
    "memoryGiB": 256,
    "name": "ml.m5d.16xlarge",
    "vcpuNum": 64
   },
   {
    "_defaultOrder": 19,
    "_isFastLaunch": false,
    "category": "General purpose",
    "gpuNum": 0,
    "hideHardwareSpecs": false,
    "memoryGiB": 384,
    "name": "ml.m5d.24xlarge",
    "vcpuNum": 96
   },
   {
    "_defaultOrder": 20,
    "_isFastLaunch": false,
    "category": "General purpose",
    "gpuNum": 0,
    "hideHardwareSpecs": true,
    "memoryGiB": 0,
    "name": "ml.geospatial.interactive",
    "supportedImageNames": [
     "sagemaker-geospatial-v1-0"
    ],
    "vcpuNum": 0
   },
   {
    "_defaultOrder": 21,
    "_isFastLaunch": true,
    "category": "Compute optimized",
    "gpuNum": 0,
    "hideHardwareSpecs": false,
    "memoryGiB": 4,
    "name": "ml.c5.large",
    "vcpuNum": 2
   },
   {
    "_defaultOrder": 22,
    "_isFastLaunch": false,
    "category": "Compute optimized",
    "gpuNum": 0,
    "hideHardwareSpecs": false,
    "memoryGiB": 8,
    "name": "ml.c5.xlarge",
    "vcpuNum": 4
   },
   {
    "_defaultOrder": 23,
    "_isFastLaunch": false,
    "category": "Compute optimized",
    "gpuNum": 0,
    "hideHardwareSpecs": false,
    "memoryGiB": 16,
    "name": "ml.c5.2xlarge",
    "vcpuNum": 8
   },
   {
    "_defaultOrder": 24,
    "_isFastLaunch": false,
    "category": "Compute optimized",
    "gpuNum": 0,
    "hideHardwareSpecs": false,
    "memoryGiB": 32,
    "name": "ml.c5.4xlarge",
    "vcpuNum": 16
   },
   {
    "_defaultOrder": 25,
    "_isFastLaunch": false,
    "category": "Compute optimized",
    "gpuNum": 0,
    "hideHardwareSpecs": false,
    "memoryGiB": 72,
    "name": "ml.c5.9xlarge",
    "vcpuNum": 36
   },
   {
    "_defaultOrder": 26,
    "_isFastLaunch": false,
    "category": "Compute optimized",
    "gpuNum": 0,
    "hideHardwareSpecs": false,
    "memoryGiB": 96,
    "name": "ml.c5.12xlarge",
    "vcpuNum": 48
   },
   {
    "_defaultOrder": 27,
    "_isFastLaunch": false,
    "category": "Compute optimized",
    "gpuNum": 0,
    "hideHardwareSpecs": false,
    "memoryGiB": 144,
    "name": "ml.c5.18xlarge",
    "vcpuNum": 72
   },
   {
    "_defaultOrder": 28,
    "_isFastLaunch": false,
    "category": "Compute optimized",
    "gpuNum": 0,
    "hideHardwareSpecs": false,
    "memoryGiB": 192,
    "name": "ml.c5.24xlarge",
    "vcpuNum": 96
   },
   {
    "_defaultOrder": 29,
    "_isFastLaunch": true,
    "category": "Accelerated computing",
    "gpuNum": 1,
    "hideHardwareSpecs": false,
    "memoryGiB": 16,
    "name": "ml.g4dn.xlarge",
    "vcpuNum": 4
   },
   {
    "_defaultOrder": 30,
    "_isFastLaunch": false,
    "category": "Accelerated computing",
    "gpuNum": 1,
    "hideHardwareSpecs": false,
    "memoryGiB": 32,
    "name": "ml.g4dn.2xlarge",
    "vcpuNum": 8
   },
   {
    "_defaultOrder": 31,
    "_isFastLaunch": false,
    "category": "Accelerated computing",
    "gpuNum": 1,
    "hideHardwareSpecs": false,
    "memoryGiB": 64,
    "name": "ml.g4dn.4xlarge",
    "vcpuNum": 16
   },
   {
    "_defaultOrder": 32,
    "_isFastLaunch": false,
    "category": "Accelerated computing",
    "gpuNum": 1,
    "hideHardwareSpecs": false,
    "memoryGiB": 128,
    "name": "ml.g4dn.8xlarge",
    "vcpuNum": 32
   },
   {
    "_defaultOrder": 33,
    "_isFastLaunch": false,
    "category": "Accelerated computing",
    "gpuNum": 4,
    "hideHardwareSpecs": false,
    "memoryGiB": 192,
    "name": "ml.g4dn.12xlarge",
    "vcpuNum": 48
   },
   {
    "_defaultOrder": 34,
    "_isFastLaunch": false,
    "category": "Accelerated computing",
    "gpuNum": 1,
    "hideHardwareSpecs": false,
    "memoryGiB": 256,
    "name": "ml.g4dn.16xlarge",
    "vcpuNum": 64
   },
   {
    "_defaultOrder": 35,
    "_isFastLaunch": false,
    "category": "Accelerated computing",
    "gpuNum": 1,
    "hideHardwareSpecs": false,
    "memoryGiB": 61,
    "name": "ml.p3.2xlarge",
    "vcpuNum": 8
   },
   {
    "_defaultOrder": 36,
    "_isFastLaunch": false,
    "category": "Accelerated computing",
    "gpuNum": 4,
    "hideHardwareSpecs": false,
    "memoryGiB": 244,
    "name": "ml.p3.8xlarge",
    "vcpuNum": 32
   },
   {
    "_defaultOrder": 37,
    "_isFastLaunch": false,
    "category": "Accelerated computing",
    "gpuNum": 8,
    "hideHardwareSpecs": false,
    "memoryGiB": 488,
    "name": "ml.p3.16xlarge",
    "vcpuNum": 64
   },
   {
    "_defaultOrder": 38,
    "_isFastLaunch": false,
    "category": "Accelerated computing",
    "gpuNum": 8,
    "hideHardwareSpecs": false,
    "memoryGiB": 768,
    "name": "ml.p3dn.24xlarge",
    "vcpuNum": 96
   },
   {
    "_defaultOrder": 39,
    "_isFastLaunch": false,
    "category": "Memory Optimized",
    "gpuNum": 0,
    "hideHardwareSpecs": false,
    "memoryGiB": 16,
    "name": "ml.r5.large",
    "vcpuNum": 2
   },
   {
    "_defaultOrder": 40,
    "_isFastLaunch": false,
    "category": "Memory Optimized",
    "gpuNum": 0,
    "hideHardwareSpecs": false,
    "memoryGiB": 32,
    "name": "ml.r5.xlarge",
    "vcpuNum": 4
   },
   {
    "_defaultOrder": 41,
    "_isFastLaunch": false,
    "category": "Memory Optimized",
    "gpuNum": 0,
    "hideHardwareSpecs": false,
    "memoryGiB": 64,
    "name": "ml.r5.2xlarge",
    "vcpuNum": 8
   },
   {
    "_defaultOrder": 42,
    "_isFastLaunch": false,
    "category": "Memory Optimized",
    "gpuNum": 0,
    "hideHardwareSpecs": false,
    "memoryGiB": 128,
    "name": "ml.r5.4xlarge",
    "vcpuNum": 16
   },
   {
    "_defaultOrder": 43,
    "_isFastLaunch": false,
    "category": "Memory Optimized",
    "gpuNum": 0,
    "hideHardwareSpecs": false,
    "memoryGiB": 256,
    "name": "ml.r5.8xlarge",
    "vcpuNum": 32
   },
   {
    "_defaultOrder": 44,
    "_isFastLaunch": false,
    "category": "Memory Optimized",
    "gpuNum": 0,
    "hideHardwareSpecs": false,
    "memoryGiB": 384,
    "name": "ml.r5.12xlarge",
    "vcpuNum": 48
   },
   {
    "_defaultOrder": 45,
    "_isFastLaunch": false,
    "category": "Memory Optimized",
    "gpuNum": 0,
    "hideHardwareSpecs": false,
    "memoryGiB": 512,
    "name": "ml.r5.16xlarge",
    "vcpuNum": 64
   },
   {
    "_defaultOrder": 46,
    "_isFastLaunch": false,
    "category": "Memory Optimized",
    "gpuNum": 0,
    "hideHardwareSpecs": false,
    "memoryGiB": 768,
    "name": "ml.r5.24xlarge",
    "vcpuNum": 96
   },
   {
    "_defaultOrder": 47,
    "_isFastLaunch": false,
    "category": "Accelerated computing",
    "gpuNum": 1,
    "hideHardwareSpecs": false,
    "memoryGiB": 16,
    "name": "ml.g5.xlarge",
    "vcpuNum": 4
   },
   {
    "_defaultOrder": 48,
    "_isFastLaunch": false,
    "category": "Accelerated computing",
    "gpuNum": 1,
    "hideHardwareSpecs": false,
    "memoryGiB": 32,
    "name": "ml.g5.2xlarge",
    "vcpuNum": 8
   },
   {
    "_defaultOrder": 49,
    "_isFastLaunch": false,
    "category": "Accelerated computing",
    "gpuNum": 1,
    "hideHardwareSpecs": false,
    "memoryGiB": 64,
    "name": "ml.g5.4xlarge",
    "vcpuNum": 16
   },
   {
    "_defaultOrder": 50,
    "_isFastLaunch": false,
    "category": "Accelerated computing",
    "gpuNum": 1,
    "hideHardwareSpecs": false,
    "memoryGiB": 128,
    "name": "ml.g5.8xlarge",
    "vcpuNum": 32
   },
   {
    "_defaultOrder": 51,
    "_isFastLaunch": false,
    "category": "Accelerated computing",
    "gpuNum": 1,
    "hideHardwareSpecs": false,
    "memoryGiB": 256,
    "name": "ml.g5.16xlarge",
    "vcpuNum": 64
   },
   {
    "_defaultOrder": 52,
    "_isFastLaunch": false,
    "category": "Accelerated computing",
    "gpuNum": 4,
    "hideHardwareSpecs": false,
    "memoryGiB": 192,
    "name": "ml.g5.12xlarge",
    "vcpuNum": 48
   },
   {
    "_defaultOrder": 53,
    "_isFastLaunch": false,
    "category": "Accelerated computing",
    "gpuNum": 4,
    "hideHardwareSpecs": false,
    "memoryGiB": 384,
    "name": "ml.g5.24xlarge",
    "vcpuNum": 96
   },
   {
    "_defaultOrder": 54,
    "_isFastLaunch": false,
    "category": "Accelerated computing",
    "gpuNum": 8,
    "hideHardwareSpecs": false,
    "memoryGiB": 768,
    "name": "ml.g5.48xlarge",
    "vcpuNum": 192
   },
   {
    "_defaultOrder": 55,
    "_isFastLaunch": false,
    "category": "Accelerated computing",
    "gpuNum": 8,
    "hideHardwareSpecs": false,
    "memoryGiB": 1152,
    "name": "ml.p4d.24xlarge",
    "vcpuNum": 96
   },
   {
    "_defaultOrder": 56,
    "_isFastLaunch": false,
    "category": "Accelerated computing",
    "gpuNum": 8,
    "hideHardwareSpecs": false,
    "memoryGiB": 1152,
    "name": "ml.p4de.24xlarge",
    "vcpuNum": 96
   },
   {
    "_defaultOrder": 57,
    "_isFastLaunch": false,
    "category": "Accelerated computing",
    "gpuNum": 0,
    "hideHardwareSpecs": false,
    "memoryGiB": 32,
    "name": "ml.trn1.2xlarge",
    "vcpuNum": 8
   },
   {
    "_defaultOrder": 58,
    "_isFastLaunch": false,
    "category": "Accelerated computing",
    "gpuNum": 0,
    "hideHardwareSpecs": false,
    "memoryGiB": 512,
    "name": "ml.trn1.32xlarge",
    "vcpuNum": 128
   },
   {
    "_defaultOrder": 59,
    "_isFastLaunch": false,
    "category": "Accelerated computing",
    "gpuNum": 0,
    "hideHardwareSpecs": false,
    "memoryGiB": 512,
    "name": "ml.trn1n.32xlarge",
    "vcpuNum": 128
   }
  ],
  "instance_type": "ml.t3.medium",
  "kernelspec": {
   "display_name": "Python 3 (Data Science 3.0)",
   "language": "python",
   "name": "python3__SAGEMAKER_INTERNAL__arn:aws:sagemaker:us-east-1:081325390199:image/sagemaker-data-science-310-v1"
  },
  "language_info": {
   "codemirror_mode": {
    "name": "ipython",
    "version": 3
   },
   "file_extension": ".py",
   "mimetype": "text/x-python",
   "name": "python",
   "nbconvert_exporter": "python",
   "pygments_lexer": "ipython3",
   "version": "3.10.6"
  },
  "lcc_arn": "arn:aws:sagemaker:us-east-1:658029854503:studio-lifecycle-config/modlifeconfig"
 },
 "nbformat": 4,
 "nbformat_minor": 5
}
